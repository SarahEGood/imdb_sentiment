{
 "cells": [
  {
   "cell_type": "markdown",
   "metadata": {},
   "source": [
    "# Comparing Review Sentiment to User Ratings\n",
    "\n",
    "Since I've learned how to perform sentiment analysis, I've been looking for a project to use it in a somewhat unique way. Analyzing IMDB reviews is nothing new, but I was wondering if I could compare how reviewer sentiment analysis compares with the the overall user rating for any given movie. For this project, I will be using the VADER (Valence Aware Dictionary for Sentiment Reasoning) sentiment analysis model. This specific model measures not only if a given input is positive or negative, but also to what extent that is conveyed in the text."
   ]
  },
  {
   "cell_type": "markdown",
   "metadata": {},
   "source": [
    "## Importing Packages\n",
    "\n",
    "We will need to use requests and BeautifulSoup to scrape the data, and pandas and numpy to process it later on. Most of the code I will be using for webscraping is a modified version of the code from [this](https://shravan-kuchkula.github.io/scrape_imdb_movie_reviews/) tutorial."
   ]
  },
  {
   "cell_type": "code",
   "execution_count": 3,
   "metadata": {},
   "outputs": [],
   "source": [
    "import requests\n",
    "from bs4 import BeautifulSoup\n",
    "import re\n",
    "import pandas as pd\n",
    "import numpy as np\n",
    "import itertools\n",
    "\n",
    "pd.options.display.max_colwidth=500"
   ]
  },
  {
   "cell_type": "markdown",
   "metadata": {},
   "source": [
    "This is the url list to be iterated over. The urls correspond to the top 250 and bottom 250 movies by user rating which have at least 50,000 votes."
   ]
  },
  {
   "cell_type": "code",
   "execution_count": 44,
   "metadata": {},
   "outputs": [],
   "source": [
    "url_list = [\"https://www.imdb.com/search/title/?title_type=feature&num_votes=50000,&view=simple&sort=user_rating,asc&count=250\",\n",
    "           \"https://www.imdb.com/search/title/?title_type=feature&num_votes=50000,&view=simple&sort=user_rating,desc&count=250\"]"
   ]
  },
  {
   "cell_type": "markdown",
   "metadata": {},
   "source": [
    "This code (which is almost entirely taken from [this tutorial](https://shravan-kuchkula.github.io/scrape_imdb_movie_reviews/) pulls the movie tag for each movie from the urls listed above. Once this is done, the next code block iterates over the tag list to create a list of movie urls."
   ]
  },
  {
   "cell_type": "code",
   "execution_count": 100,
   "metadata": {},
   "outputs": [
    {
     "name": "stdout",
     "output_type": "stream",
     "text": [
      "500\n"
     ]
    }
   ],
   "source": [
    "all_movie_tags = []\n",
    "\n",
    "for url in url_list:\n",
    "    # Get html soup for a given url\n",
    "    response = requests.get(url)\n",
    "    movies_soup = BeautifulSoup(response.text, 'html.parser')\n",
    "\n",
    "    # find all a-tags with class:None\n",
    "    movie_tags = movies_soup.find_all('a', attrs={'class': None})\n",
    "\n",
    "    # filter the a-tags to get just the titles\n",
    "    movie_tags = [tag.attrs['href'] for tag in movie_tags \n",
    "                  if tag.attrs['href'].startswith('/title') & tag.attrs['href'].endswith('/')]\n",
    "\n",
    "    # remove duplicate links\n",
    "    movie_tags = list(dict.fromkeys(movie_tags))\n",
    "\n",
    "    all_movie_tags = all_movie_tags + movie_tags\n",
    "\n",
    "# Prints number of movie urls\n",
    "print(len(all_movie_tags))"
   ]
  },
  {
   "cell_type": "code",
   "execution_count": 46,
   "metadata": {},
   "outputs": [
    {
     "name": "stdout",
     "output_type": "stream",
     "text": [
      "There are a total of 500 movie user reviews\n",
      "Displaying 10 user reviews links\n"
     ]
    },
    {
     "data": {
      "text/plain": [
       "['https://www.imdb.com/title/tt7886848/',\n",
       " 'https://www.imdb.com/title/tt5988370/',\n",
       " 'https://www.imdb.com/title/tt1213644/',\n",
       " 'https://www.imdb.com/title/tt0362165/',\n",
       " 'https://www.imdb.com/title/tt0799949/',\n",
       " 'https://www.imdb.com/title/tt2574698/',\n",
       " 'https://www.imdb.com/title/tt0185183/',\n",
       " 'https://www.imdb.com/title/tt1098327/',\n",
       " 'https://www.imdb.com/title/tt0466342/',\n",
       " 'https://www.imdb.com/title/tt1073498/']"
      ]
     },
     "execution_count": 46,
     "metadata": {},
     "output_type": "execute_result"
    }
   ],
   "source": [
    "# Makes movie links\n",
    "base_url = \"https://www.imdb.com\"\n",
    "movie_links = [base_url + tag for tag in all_movie_tags]"
   ]
  },
  {
   "cell_type": "markdown",
   "metadata": {},
   "source": [
    "## Extracting data from the urls\n",
    "\n",
    "Now that we ave the urls for each movie's page, we can manipulate them to pull the rating from the main page and pull the title and review text from the reviews page. We access the reviews page by appending the \"review\" suffix to the main url.\n",
    "\n",
    "We then take the title, user rating, and review data and create a data frame with them."
   ]
  },
  {
   "cell_type": "code",
   "execution_count": 47,
   "metadata": {},
   "outputs": [],
   "source": [
    "data = []\n",
    "\n",
    "for movie in movie_links:\n",
    "    response = requests.get(movie + 'reviews')\n",
    "    movie_soup = BeautifulSoup(response.text, 'html.parser')\n",
    "    \n",
    "    tit_response = requests.get(movie)\n",
    "    tit_soup = BeautifulSoup(tit_response.text, 'html.parser')\n",
    "    \n",
    "    title = movie_soup.find_all('h3', itemprop='name')[0].getText().replace('\\n','')\n",
    "    reviews = movie_soup.find_all(\"div\", {\"class\": \"text show-more__control\"})\n",
    "    rating = tit_soup.find_all('span', itemprop='ratingValue')[0].getText()\n",
    "    \n",
    "    for review in reviews:\n",
    "        data_app = [title, rating, review.getText()]\n",
    "        data.append(data_app)\n",
    "        \n",
    "df = pd.DataFrame(data, columns=['title', 'rating', 'review_text'])"
   ]
  },
  {
   "cell_type": "code",
   "execution_count": 48,
   "metadata": {},
   "outputs": [
    {
     "data": {
      "text/html": [
       "<div>\n",
       "<style scoped>\n",
       "    .dataframe tbody tr th:only-of-type {\n",
       "        vertical-align: middle;\n",
       "    }\n",
       "\n",
       "    .dataframe tbody tr th {\n",
       "        vertical-align: top;\n",
       "    }\n",
       "\n",
       "    .dataframe thead th {\n",
       "        text-align: right;\n",
       "    }\n",
       "</style>\n",
       "<table border=\"1\" class=\"dataframe\">\n",
       "  <thead>\n",
       "    <tr style=\"text-align: right;\">\n",
       "      <th></th>\n",
       "      <th>title</th>\n",
       "      <th>rating</th>\n",
       "      <th>review_text</th>\n",
       "    </tr>\n",
       "  </thead>\n",
       "  <tbody>\n",
       "    <tr>\n",
       "      <th>0</th>\n",
       "      <td>Sadak 2                  (2020)</td>\n",
       "      <td>1.1</td>\n",
       "      <td>This is a total ridiculous movie with a worst plot and there wasn't even a minute that this movie could be enjoyed. No story, no character development nothing whatsoever.The only plus point about this movie was it's soundtrack which was decent enough. My suggestion would be to skip this movie and rewatch some other comedy or drama movie..\\nMy Rating : 0.5/5</td>\n",
       "    </tr>\n",
       "    <tr>\n",
       "      <th>1</th>\n",
       "      <td>Sadak 2                  (2020)</td>\n",
       "      <td>1.1</td>\n",
       "      <td>Movie said to be sequel have no connection from first part , it's just a ploy to grab eyeball , story is nt clear and screenplay is uneven , mahesh bhatt returned to direction after 21 years to give such a disaster, Alia bhatt hamming in every scene Sanjay dutt doesn't look interested Aditya roy kapur is wasted he is no where in second half I think bhatt have lost their touch in past few years It will add up to their flop listBetter give it miss their many better stuff available on ott</td>\n",
       "    </tr>\n",
       "    <tr>\n",
       "      <th>2</th>\n",
       "      <td>Sadak 2                  (2020)</td>\n",
       "      <td>1.1</td>\n",
       "      <td>The real pandemic is watching Sadak 2. Storyline, Screenplay everything is so Disappointing. Pain in the head. Even actors in this film have failed to impress.</td>\n",
       "    </tr>\n",
       "    <tr>\n",
       "      <th>3</th>\n",
       "      <td>Sadak 2                  (2020)</td>\n",
       "      <td>1.1</td>\n",
       "      <td>Understand philosophically, Sadak 2 is the story of two broken characters coming together, who spiritually and mentally support each other.The story is straightforward, but the screenplay has been so entangled that for some time one does not understand where the film is going.The initial scenes of Sanjay Dutt and Aaliya confuse. However, later the picture starts to clear. However, by then the film is bored and runs on a very worn-out pattern.sadak 2 movie review\\nThe writing of Pushpdeep Bha...</td>\n",
       "    </tr>\n",
       "    <tr>\n",
       "      <th>4</th>\n",
       "      <td>Sadak 2                  (2020)</td>\n",
       "      <td>1.1</td>\n",
       "      <td>#FinalVerdictThe first question that crosses your mind after having watched Sadak 2 is, for whom has director Mahesh Bhatt made this film? Is it for the Indian audience - the upper strata, the commoners, the hoi polloi? Or is it targetted at the international audience?Sadak 2 is neither novel nor experimental. It falls flat on its face! While bits and pieces of the first half are somewhat watchable, the film goes completely awry in its post-interval portions. A disaster of epic proportion! S...</td>\n",
       "    </tr>\n",
       "  </tbody>\n",
       "</table>\n",
       "</div>"
      ],
      "text/plain": [
       "                                          title rating  \\\n",
       "0  Sadak 2                  (2020)                 1.1   \n",
       "1  Sadak 2                  (2020)                 1.1   \n",
       "2  Sadak 2                  (2020)                 1.1   \n",
       "3  Sadak 2                  (2020)                 1.1   \n",
       "4  Sadak 2                  (2020)                 1.1   \n",
       "\n",
       "                                                                                                                                                                                                                                                                                                                                                                                                                                                                                                           review_text  \n",
       "0                                                                                                                                              This is a total ridiculous movie with a worst plot and there wasn't even a minute that this movie could be enjoyed. No story, no character development nothing whatsoever.The only plus point about this movie was it's soundtrack which was decent enough. My suggestion would be to skip this movie and rewatch some other comedy or drama movie..\\nMy Rating : 0.5/5  \n",
       "1           Movie said to be sequel have no connection from first part , it's just a ploy to grab eyeball , story is nt clear and screenplay is uneven , mahesh bhatt returned to direction after 21 years to give such a disaster, Alia bhatt hamming in every scene Sanjay dutt doesn't look interested Aditya roy kapur is wasted he is no where in second half I think bhatt have lost their touch in past few years It will add up to their flop listBetter give it miss their many better stuff available on ott  \n",
       "2                                                                                                                                                                                                                                                                                                                                                      The real pandemic is watching Sadak 2. Storyline, Screenplay everything is so Disappointing. Pain in the head. Even actors in this film have failed to impress.  \n",
       "3  Understand philosophically, Sadak 2 is the story of two broken characters coming together, who spiritually and mentally support each other.The story is straightforward, but the screenplay has been so entangled that for some time one does not understand where the film is going.The initial scenes of Sanjay Dutt and Aaliya confuse. However, later the picture starts to clear. However, by then the film is bored and runs on a very worn-out pattern.sadak 2 movie review\\nThe writing of Pushpdeep Bha...  \n",
       "4  #FinalVerdictThe first question that crosses your mind after having watched Sadak 2 is, for whom has director Mahesh Bhatt made this film? Is it for the Indian audience - the upper strata, the commoners, the hoi polloi? Or is it targetted at the international audience?Sadak 2 is neither novel nor experimental. It falls flat on its face! While bits and pieces of the first half are somewhat watchable, the film goes completely awry in its post-interval portions. A disaster of epic proportion! S...  "
      ]
     },
     "execution_count": 48,
     "metadata": {},
     "output_type": "execute_result"
    }
   ],
   "source": [
    "df.head()"
   ]
  },
  {
   "cell_type": "code",
   "execution_count": 49,
   "metadata": {},
   "outputs": [
    {
     "data": {
      "text/html": [
       "<div>\n",
       "<style scoped>\n",
       "    .dataframe tbody tr th:only-of-type {\n",
       "        vertical-align: middle;\n",
       "    }\n",
       "\n",
       "    .dataframe tbody tr th {\n",
       "        vertical-align: top;\n",
       "    }\n",
       "\n",
       "    .dataframe thead th {\n",
       "        text-align: right;\n",
       "    }\n",
       "</style>\n",
       "<table border=\"1\" class=\"dataframe\">\n",
       "  <thead>\n",
       "    <tr style=\"text-align: right;\">\n",
       "      <th></th>\n",
       "      <th>title</th>\n",
       "      <th>rating</th>\n",
       "      <th>review_text</th>\n",
       "    </tr>\n",
       "  </thead>\n",
       "  <tbody>\n",
       "    <tr>\n",
       "      <th>12466</th>\n",
       "      <td>Chinatown                  (1974)</td>\n",
       "      <td>8.1</td>\n",
       "      <td>As is often the case with any Jack Nicholson film, Jack was the greatest part of this film. While it is said to be a crime thriller meant to keep audiences on their toes with its action and drama, which is not really the effect that Chinatown has on the audience. This film actually makes more of a statement on the social and political situations in the United States (in this case L.A). If audiences walk into this film expecting a mindless crime thriller, then they will be sorely disappointed...</td>\n",
       "    </tr>\n",
       "    <tr>\n",
       "      <th>12467</th>\n",
       "      <td>Chinatown                  (1974)</td>\n",
       "      <td>8.1</td>\n",
       "      <td>'Chinatown' is one of the best films of the 70s and without doubt one of the most memorable in the crime/detective genre. This is a first-rate picture all round with very few faults, if any. It's an intelligent mystery, complex yet relatively easy to follow, and has no difficulty in holding your attention from start to finish.Part of what makes 'Chinatown' so memorable is just how perfect it is in appearance. The cinematography is on another level to anything else I've seen from the 70s - ea...</td>\n",
       "    </tr>\n",
       "    <tr>\n",
       "      <th>12468</th>\n",
       "      <td>Chinatown                  (1974)</td>\n",
       "      <td>8.1</td>\n",
       "      <td>By now it's only redundant to heap more praise on this film. The writing, acting, cinematography, direction, editing, etc. seamlessly come together as if predestined. And yes, I think Polanski's decision to go with a downbeat ending was the correct choice - that final scene is unforgettable. What I'd like to focus on is Faye Dunaway's remarkable contribution to the film. She reportedly did not get along with Polanski, in fact, was labeled \"difficult\" on several of her movies. Yet she turned ...</td>\n",
       "    </tr>\n",
       "    <tr>\n",
       "      <th>12469</th>\n",
       "      <td>Chinatown                  (1974)</td>\n",
       "      <td>8.1</td>\n",
       "      <td>Very, very difficult to find any faults in this landmark film. The script is captivating; the soundtrack haunting; the cinematography and photography perfectly captures the hazy atmosphere of LA, especially at dusk; and the production values are first class. \"Chinatown\" is well deserving of its status as a 20th century classic in film.Through its story of a civic department run by greedy officials, \"Chinatown\" captures moral decay in 1930's LA so well. This is the key theme of the film. Ther...</td>\n",
       "    </tr>\n",
       "    <tr>\n",
       "      <th>12470</th>\n",
       "      <td>Chinatown                  (1974)</td>\n",
       "      <td>8.1</td>\n",
       "      <td>Spoilers herein.Polanski is worth watching no matter what he does. Sometimes, the film is relatively free of context, like the nearly perfect `Ninth Gate.' But watching those take work because you have to cocreate the world.Sometimes the film is set in the context of a genre where the metanarrative is about how it sets within the genre. `Rosemary's Baby' was great because it played with everything that came before, adding great portions of architectural evil and fey vulnerability.Noir revolu...</td>\n",
       "    </tr>\n",
       "  </tbody>\n",
       "</table>\n",
       "</div>"
      ],
      "text/plain": [
       "                                                title rating  \\\n",
       "12466  Chinatown                  (1974)                 8.1   \n",
       "12467  Chinatown                  (1974)                 8.1   \n",
       "12468  Chinatown                  (1974)                 8.1   \n",
       "12469  Chinatown                  (1974)                 8.1   \n",
       "12470  Chinatown                  (1974)                 8.1   \n",
       "\n",
       "                                                                                                                                                                                                                                                                                                                                                                                                                                                                                                               review_text  \n",
       "12466  As is often the case with any Jack Nicholson film, Jack was the greatest part of this film. While it is said to be a crime thriller meant to keep audiences on their toes with its action and drama, which is not really the effect that Chinatown has on the audience. This film actually makes more of a statement on the social and political situations in the United States (in this case L.A). If audiences walk into this film expecting a mindless crime thriller, then they will be sorely disappointed...  \n",
       "12467  'Chinatown' is one of the best films of the 70s and without doubt one of the most memorable in the crime/detective genre. This is a first-rate picture all round with very few faults, if any. It's an intelligent mystery, complex yet relatively easy to follow, and has no difficulty in holding your attention from start to finish.Part of what makes 'Chinatown' so memorable is just how perfect it is in appearance. The cinematography is on another level to anything else I've seen from the 70s - ea...  \n",
       "12468  By now it's only redundant to heap more praise on this film. The writing, acting, cinematography, direction, editing, etc. seamlessly come together as if predestined. And yes, I think Polanski's decision to go with a downbeat ending was the correct choice - that final scene is unforgettable. What I'd like to focus on is Faye Dunaway's remarkable contribution to the film. She reportedly did not get along with Polanski, in fact, was labeled \"difficult\" on several of her movies. Yet she turned ...  \n",
       "12469  Very, very difficult to find any faults in this landmark film. The script is captivating; the soundtrack haunting; the cinematography and photography perfectly captures the hazy atmosphere of LA, especially at dusk; and the production values are first class. \"Chinatown\" is well deserving of its status as a 20th century classic in film.Through its story of a civic department run by greedy officials, \"Chinatown\" captures moral decay in 1930's LA so well. This is the key theme of the film. Ther...  \n",
       "12470  Spoilers herein.Polanski is worth watching no matter what he does. Sometimes, the film is relatively free of context, like the nearly perfect `Ninth Gate.' But watching those take work because you have to cocreate the world.Sometimes the film is set in the context of a genre where the metanarrative is about how it sets within the genre. `Rosemary's Baby' was great because it played with everything that came before, adding great portions of architectural evil and fey vulnerability.Noir revolu...  "
      ]
     },
     "execution_count": 49,
     "metadata": {},
     "output_type": "execute_result"
    }
   ],
   "source": [
    "df.tail()"
   ]
  },
  {
   "cell_type": "markdown",
   "metadata": {},
   "source": [
    "Now we save the raw data into a csv."
   ]
  },
  {
   "cell_type": "code",
   "execution_count": 50,
   "metadata": {},
   "outputs": [],
   "source": [
    "df.to_csv('reviews.csv')"
   ]
  },
  {
   "cell_type": "markdown",
   "metadata": {},
   "source": [
    "Since we're going to aggregate the review data later by title, we also create a new dataframe (that we backup into another .csv file) that only contains the title and user ratings for each movie. More on this later."
   ]
  },
  {
   "cell_type": "code",
   "execution_count": 55,
   "metadata": {},
   "outputs": [],
   "source": [
    "df_small = df[['title','rating']].drop_duplicates()\n",
    "df_small.to_csv('movies.csv')"
   ]
  },
  {
   "cell_type": "markdown",
   "metadata": {},
   "source": [
    "## VADER Sentiment Analysis\n",
    "\n",
    "Now is the part where we perform the sentiment analysis on each review. To keep things simple, we will only be saving the compound score of each review rather than including both positive and negative components."
   ]
  },
  {
   "cell_type": "code",
   "execution_count": 57,
   "metadata": {},
   "outputs": [],
   "source": [
    "from nltk.sentiment.vader import SentimentIntensityAnalyzer\n",
    "analyzer = SentimentIntensityAnalyzer()"
   ]
  },
  {
   "cell_type": "code",
   "execution_count": 63,
   "metadata": {},
   "outputs": [
    {
     "data": {
      "text/html": [
       "<div>\n",
       "<style scoped>\n",
       "    .dataframe tbody tr th:only-of-type {\n",
       "        vertical-align: middle;\n",
       "    }\n",
       "\n",
       "    .dataframe tbody tr th {\n",
       "        vertical-align: top;\n",
       "    }\n",
       "\n",
       "    .dataframe thead th {\n",
       "        text-align: right;\n",
       "    }\n",
       "</style>\n",
       "<table border=\"1\" class=\"dataframe\">\n",
       "  <thead>\n",
       "    <tr style=\"text-align: right;\">\n",
       "      <th></th>\n",
       "      <th>score</th>\n",
       "    </tr>\n",
       "  </thead>\n",
       "  <tbody>\n",
       "    <tr>\n",
       "      <th>0</th>\n",
       "      <td>-0.6369</td>\n",
       "    </tr>\n",
       "    <tr>\n",
       "      <th>1</th>\n",
       "      <td>-0.9146</td>\n",
       "    </tr>\n",
       "    <tr>\n",
       "      <th>2</th>\n",
       "      <td>-0.8440</td>\n",
       "    </tr>\n",
       "    <tr>\n",
       "      <th>3</th>\n",
       "      <td>0.9370</td>\n",
       "    </tr>\n",
       "    <tr>\n",
       "      <th>4</th>\n",
       "      <td>-0.9635</td>\n",
       "    </tr>\n",
       "  </tbody>\n",
       "</table>\n",
       "</div>"
      ],
      "text/plain": [
       "    score\n",
       "0 -0.6369\n",
       "1 -0.9146\n",
       "2 -0.8440\n",
       "3  0.9370\n",
       "4 -0.9635"
      ]
     },
     "execution_count": 63,
     "metadata": {},
     "output_type": "execute_result"
    }
   ],
   "source": [
    "rev_data = []\n",
    "\n",
    "for review in df['review_text']:\n",
    "    rev_data.append(analyzer.polarity_scores(review)['compound'])\n",
    "\n",
    "rev_df = pd.DataFrame(rev_data, columns=['score'])\n",
    "rev_df.head()"
   ]
  },
  {
   "cell_type": "markdown",
   "metadata": {},
   "source": [
    "Now we join the scores to our main dataframe, which we, again, backup as a .csv file."
   ]
  },
  {
   "cell_type": "code",
   "execution_count": 64,
   "metadata": {},
   "outputs": [
    {
     "data": {
      "text/html": [
       "<div>\n",
       "<style scoped>\n",
       "    .dataframe tbody tr th:only-of-type {\n",
       "        vertical-align: middle;\n",
       "    }\n",
       "\n",
       "    .dataframe tbody tr th {\n",
       "        vertical-align: top;\n",
       "    }\n",
       "\n",
       "    .dataframe thead th {\n",
       "        text-align: right;\n",
       "    }\n",
       "</style>\n",
       "<table border=\"1\" class=\"dataframe\">\n",
       "  <thead>\n",
       "    <tr style=\"text-align: right;\">\n",
       "      <th></th>\n",
       "      <th>title</th>\n",
       "      <th>rating</th>\n",
       "      <th>review_text</th>\n",
       "      <th>score</th>\n",
       "    </tr>\n",
       "  </thead>\n",
       "  <tbody>\n",
       "    <tr>\n",
       "      <th>0</th>\n",
       "      <td>Sadak 2                  (2020)</td>\n",
       "      <td>1.1</td>\n",
       "      <td>This is a total ridiculous movie with a worst plot and there wasn't even a minute that this movie could be enjoyed. No story, no character development nothing whatsoever.The only plus point about this movie was it's soundtrack which was decent enough. My suggestion would be to skip this movie and rewatch some other comedy or drama movie..\\nMy Rating : 0.5/5</td>\n",
       "      <td>-0.6369</td>\n",
       "    </tr>\n",
       "    <tr>\n",
       "      <th>1</th>\n",
       "      <td>Sadak 2                  (2020)</td>\n",
       "      <td>1.1</td>\n",
       "      <td>Movie said to be sequel have no connection from first part , it's just a ploy to grab eyeball , story is nt clear and screenplay is uneven , mahesh bhatt returned to direction after 21 years to give such a disaster, Alia bhatt hamming in every scene Sanjay dutt doesn't look interested Aditya roy kapur is wasted he is no where in second half I think bhatt have lost their touch in past few years It will add up to their flop listBetter give it miss their many better stuff available on ott</td>\n",
       "      <td>-0.9146</td>\n",
       "    </tr>\n",
       "    <tr>\n",
       "      <th>2</th>\n",
       "      <td>Sadak 2                  (2020)</td>\n",
       "      <td>1.1</td>\n",
       "      <td>The real pandemic is watching Sadak 2. Storyline, Screenplay everything is so Disappointing. Pain in the head. Even actors in this film have failed to impress.</td>\n",
       "      <td>-0.8440</td>\n",
       "    </tr>\n",
       "    <tr>\n",
       "      <th>3</th>\n",
       "      <td>Sadak 2                  (2020)</td>\n",
       "      <td>1.1</td>\n",
       "      <td>Understand philosophically, Sadak 2 is the story of two broken characters coming together, who spiritually and mentally support each other.The story is straightforward, but the screenplay has been so entangled that for some time one does not understand where the film is going.The initial scenes of Sanjay Dutt and Aaliya confuse. However, later the picture starts to clear. However, by then the film is bored and runs on a very worn-out pattern.sadak 2 movie review\\nThe writing of Pushpdeep Bha...</td>\n",
       "      <td>0.9370</td>\n",
       "    </tr>\n",
       "    <tr>\n",
       "      <th>4</th>\n",
       "      <td>Sadak 2                  (2020)</td>\n",
       "      <td>1.1</td>\n",
       "      <td>#FinalVerdictThe first question that crosses your mind after having watched Sadak 2 is, for whom has director Mahesh Bhatt made this film? Is it for the Indian audience - the upper strata, the commoners, the hoi polloi? Or is it targetted at the international audience?Sadak 2 is neither novel nor experimental. It falls flat on its face! While bits and pieces of the first half are somewhat watchable, the film goes completely awry in its post-interval portions. A disaster of epic proportion! S...</td>\n",
       "      <td>-0.9635</td>\n",
       "    </tr>\n",
       "  </tbody>\n",
       "</table>\n",
       "</div>"
      ],
      "text/plain": [
       "                                          title rating  \\\n",
       "0  Sadak 2                  (2020)                 1.1   \n",
       "1  Sadak 2                  (2020)                 1.1   \n",
       "2  Sadak 2                  (2020)                 1.1   \n",
       "3  Sadak 2                  (2020)                 1.1   \n",
       "4  Sadak 2                  (2020)                 1.1   \n",
       "\n",
       "                                                                                                                                                                                                                                                                                                                                                                                                                                                                                                           review_text  \\\n",
       "0                                                                                                                                              This is a total ridiculous movie with a worst plot and there wasn't even a minute that this movie could be enjoyed. No story, no character development nothing whatsoever.The only plus point about this movie was it's soundtrack which was decent enough. My suggestion would be to skip this movie and rewatch some other comedy or drama movie..\\nMy Rating : 0.5/5   \n",
       "1           Movie said to be sequel have no connection from first part , it's just a ploy to grab eyeball , story is nt clear and screenplay is uneven , mahesh bhatt returned to direction after 21 years to give such a disaster, Alia bhatt hamming in every scene Sanjay dutt doesn't look interested Aditya roy kapur is wasted he is no where in second half I think bhatt have lost their touch in past few years It will add up to their flop listBetter give it miss their many better stuff available on ott   \n",
       "2                                                                                                                                                                                                                                                                                                                                                      The real pandemic is watching Sadak 2. Storyline, Screenplay everything is so Disappointing. Pain in the head. Even actors in this film have failed to impress.   \n",
       "3  Understand philosophically, Sadak 2 is the story of two broken characters coming together, who spiritually and mentally support each other.The story is straightforward, but the screenplay has been so entangled that for some time one does not understand where the film is going.The initial scenes of Sanjay Dutt and Aaliya confuse. However, later the picture starts to clear. However, by then the film is bored and runs on a very worn-out pattern.sadak 2 movie review\\nThe writing of Pushpdeep Bha...   \n",
       "4  #FinalVerdictThe first question that crosses your mind after having watched Sadak 2 is, for whom has director Mahesh Bhatt made this film? Is it for the Indian audience - the upper strata, the commoners, the hoi polloi? Or is it targetted at the international audience?Sadak 2 is neither novel nor experimental. It falls flat on its face! While bits and pieces of the first half are somewhat watchable, the film goes completely awry in its post-interval portions. A disaster of epic proportion! S...   \n",
       "\n",
       "    score  \n",
       "0 -0.6369  \n",
       "1 -0.9146  \n",
       "2 -0.8440  \n",
       "3  0.9370  \n",
       "4 -0.9635  "
      ]
     },
     "execution_count": 64,
     "metadata": {},
     "output_type": "execute_result"
    }
   ],
   "source": [
    "df = df.join(rev_df)\n",
    "df.head()"
   ]
  },
  {
   "cell_type": "code",
   "execution_count": 65,
   "metadata": {},
   "outputs": [],
   "source": [
    "df.to_csv('reviews.csv')"
   ]
  },
  {
   "cell_type": "markdown",
   "metadata": {},
   "source": [
    "But since we're analyzing the aggregate sentiment across all reviews, we'll be taking the mean of all sentiment scores for each movie and matching that score to our small dataframe (which, again, we save)."
   ]
  },
  {
   "cell_type": "code",
   "execution_count": 69,
   "metadata": {},
   "outputs": [
    {
     "data": {
      "text/html": [
       "<div>\n",
       "<style scoped>\n",
       "    .dataframe tbody tr th:only-of-type {\n",
       "        vertical-align: middle;\n",
       "    }\n",
       "\n",
       "    .dataframe tbody tr th {\n",
       "        vertical-align: top;\n",
       "    }\n",
       "\n",
       "    .dataframe thead th {\n",
       "        text-align: right;\n",
       "    }\n",
       "</style>\n",
       "<table border=\"1\" class=\"dataframe\">\n",
       "  <thead>\n",
       "    <tr style=\"text-align: right;\">\n",
       "      <th></th>\n",
       "      <th>title</th>\n",
       "      <th>rating</th>\n",
       "      <th>sentiment</th>\n",
       "    </tr>\n",
       "  </thead>\n",
       "  <tbody>\n",
       "    <tr>\n",
       "      <th>0</th>\n",
       "      <td>Sadak 2                  (2020)</td>\n",
       "      <td>1.1</td>\n",
       "      <td>-0.444752</td>\n",
       "    </tr>\n",
       "    <tr>\n",
       "      <th>1</th>\n",
       "      <td>Reis                  (2017)</td>\n",
       "      <td>1.4</td>\n",
       "      <td>-0.384672</td>\n",
       "    </tr>\n",
       "    <tr>\n",
       "      <th>2</th>\n",
       "      <td>Disaster Movie                  (2008)</td>\n",
       "      <td>1.9</td>\n",
       "      <td>-0.153744</td>\n",
       "    </tr>\n",
       "    <tr>\n",
       "      <th>3</th>\n",
       "      <td>Son of the Mask                  (2005)</td>\n",
       "      <td>2.2</td>\n",
       "      <td>0.332328</td>\n",
       "    </tr>\n",
       "    <tr>\n",
       "      <th>4</th>\n",
       "      <td>Epic Movie                  (2007)</td>\n",
       "      <td>2.4</td>\n",
       "      <td>-0.105588</td>\n",
       "    </tr>\n",
       "  </tbody>\n",
       "</table>\n",
       "</div>"
      ],
      "text/plain": [
       "                                                  title rating  sentiment\n",
       "0          Sadak 2                  (2020)                 1.1  -0.444752\n",
       "1             Reis                  (2017)                 1.4  -0.384672\n",
       "2   Disaster Movie                  (2008)                 1.9  -0.153744\n",
       "3  Son of the Mask                  (2005)                 2.2   0.332328\n",
       "4       Epic Movie                  (2007)                 2.4  -0.105588"
      ]
     },
     "execution_count": 69,
     "metadata": {},
     "output_type": "execute_result"
    }
   ],
   "source": [
    "mean_scores = []\n",
    "\n",
    "for title in df_small['title']:\n",
    "    score = df[df['title'] == title]['score'].mean()\n",
    "    mean_scores.append([title, score])\n",
    "\n",
    "score_frame = pd.DataFrame(mean_scores, columns=['title', 'sentiment'])\n",
    "    \n",
    "df_small = df_small.merge(score_frame)\n",
    "df_small.head()"
   ]
  },
  {
   "cell_type": "code",
   "execution_count": 82,
   "metadata": {},
   "outputs": [],
   "source": [
    "df_small.to_csv('movies.csv')"
   ]
  },
  {
   "cell_type": "code",
   "execution_count": 1,
   "metadata": {},
   "outputs": [],
   "source": [
    "# This block is to reload the csv file we want to graph later\n",
    "\n",
    "#import pandas as pd\n",
    "#import numpy as np\n",
    "\n",
    "#df_small = pd.read_csv('movies.csv')"
   ]
  },
  {
   "cell_type": "markdown",
   "metadata": {},
   "source": [
    "## Graphing the Data\n",
    "We import our graphical packages first. Then, we modify the data types of the rating and title data to make sure the ratings are plotted as a number and that the names display with the correct formattting. We also make it so that our Plottly graph can display the title of each movie when hovered over."
   ]
  },
  {
   "cell_type": "code",
   "execution_count": 4,
   "metadata": {},
   "outputs": [
    {
     "data": {
      "application/vnd.plotly.v1+json": {
       "config": {
        "plotlyServerURL": "https://plot.ly"
       },
       "data": [
        {
         "customdata": [
          [
           "Sadak 2 (2020)             "
          ],
          [
           "Reis (2017)             "
          ],
          [
           "Disaster Movie (2008)             "
          ],
          [
           "Son of the Mask (2005)             "
          ],
          [
           "Epic Movie (2007)             "
          ],
          [
           "Gunday (2014)             "
          ],
          [
           "Battlefield Earth (2000)             "
          ],
          [
           "Dragonball Evolution (2009)             "
          ],
          [
           "Date Movie (2006)             "
          ],
          [
           "Meet the Spartans (2008)             "
          ],
          [
           "Jack and Jill (I) (2011)             "
          ],
          [
           "The Emoji Movie (2017)             "
          ],
          [
           "Catwoman (2004)             "
          ],
          [
           "Scary Movie 5 (2013)             "
          ],
          [
           "The Room (2003)             "
          ],
          [
           "The Wicker Man (2006)             "
          ],
          [
           "Batman & Robin (1997)             "
          ],
          [
           "The Love Guru (2008)             "
          ],
          [
           "Speed 2: Cruise Control (1997)             "
          ],
          [
           "Street Fighter (1994)             "
          ],
          [
           "The Cat in the Hat (2003)             "
          ],
          [
           "The Last Airbender (2010)             "
          ],
          [
           "Enes Batur Hayal mi Gerçek mi? (2018)             "
          ],
          [
           "Norbit (2007)             "
          ],
          [
           "Fifty Shades of Grey (2015)             "
          ],
          [
           "The Legend of Hercules (2014)             "
          ],
          [
           "Spy Kids 3: Game Over (2003)             "
          ],
          [
           "Ghost Rider: Spirit of Vengeance (2011)             "
          ],
          [
           "Movie 43 (2013)             "
          ],
          [
           "Fantastic Four (2015)             "
          ],
          [
           "Jason X (2001)             "
          ],
          [
           "Little Man (III) (2006)             "
          ],
          [
           "The Human Centipede (First Sequence) (2009)             "
          ],
          [
           "Skyline (2010)             "
          ],
          [
           "LOL (2012)             "
          ],
          [
           "Home Alone 3 (1997)             "
          ],
          [
           "xXx²: The Next Level (2005)             "
          ],
          [
           "Ultraviolet (2006)             "
          ],
          [
           "Superhero Movie (2008)             "
          ],
          [
           "Death Note (I) (2017)             "
          ],
          [
           "Sex and the City 2 (2010)             "
          ],
          [
           "Fifty Shades Freed (2018)             "
          ],
          [
           "Junior (1994)             "
          ],
          [
           "Paranormal Activity 4 (2012)             "
          ],
          [
           "Fifty Shades Darker (2017)             "
          ],
          [
           "I Still Know What You Did Last Summer (1998)             "
          ],
          [
           "Elektra (2005)             "
          ],
          [
           "AVPR: Aliens vs Predator - Requiem (2007)             "
          ],
          [
           "Jonah Hex (2010)             "
          ],
          [
           "The Twilight Saga: New Moon (2009)             "
          ],
          [
           "Zoolander 2 (2016)             "
          ],
          [
           "Anaconda (1997)             "
          ],
          [
           "The Animal (2001)             "
          ],
          [
           "Legally Blonde 2: Red, White & Blonde (2003)             "
          ],
          [
           "Bewitched (2005)             "
          ],
          [
           "The Spirit (2008)             "
          ],
          [
           "High School Musical 3: Senior Year (2008)             "
          ],
          [
           "After Earth (2013)             "
          ],
          [
           "Charlie's Angels (2019)             "
          ],
          [
           "The Flintstones (1994)             "
          ],
          [
           "Showgirls (1995)             "
          ],
          [
           "Ghosts of Mars (2001)             "
          ],
          [
           "Charlie's Angels: Full Throttle (2003)             "
          ],
          [
           "Poltergeist (2015)             "
          ],
          [
           "Year One (2009)             "
          ],
          [
           "The Darkest Hour (2011)             "
          ],
          [
           "Gulliver's Travels (2010)             "
          ],
          [
           "The Twilight Saga: Breaking Dawn - Part 1 (2011)             "
          ],
          [
           "Knock Knock (I) (2015)             "
          ],
          [
           "Superman III (1983)             "
          ],
          [
           "Wild Wild West (1999)             "
          ],
          [
           "The Haunting (1999)             "
          ],
          [
           "Garfield (2004)             "
          ],
          [
           "Silent Hill: Revelation (2012)             "
          ],
          [
           "The Happening (2008)             "
          ],
          [
           "A Serbian Film (2010)             "
          ],
          [
           "The Twilight Saga: Eclipse (2010)             "
          ],
          [
           "Chernobyl Diaries (2012)             "
          ],
          [
           "Cats & Dogs (2001)             "
          ],
          [
           "Scooby-Doo (2002)             "
          ],
          [
           "Scary Movie 4 (2006)             "
          ],
          [
           "The Dukes of Hazzard (2005)             "
          ],
          [
           "Stealth (2005)             "
          ],
          [
           "Miss Congeniality 2: Armed & Fabulous (2005)             "
          ],
          [
           "10,000 BC (2008)             "
          ],
          [
           "Eragon (2006)             "
          ],
          [
           "My Super Ex-Girlfriend (2006)             "
          ],
          [
           "The Hills Have Eyes II (2007)             "
          ],
          [
           "I, Frankenstein (2014)             "
          ],
          [
           "Abduction (I) (2011)             "
          ],
          [
           "The Snowman (2017)             "
          ],
          [
           "Sex Tape (2014)             "
          ],
          [
           "Lost in Space (1998)             "
          ],
          [
           "Big Momma's House (2000)             "
          ],
          [
           "The Sweetest Thing (2002)             "
          ],
          [
           "Ghost Rider (2007)             "
          ],
          [
           "Spy Kids 2: Island of Lost Dreams (2002)             "
          ],
          [
           "Doom (2005)             "
          ],
          [
           "Conan the Barbarian (2011)             "
          ],
          [
           "The Mummy: Tomb of the Dragon Emperor (2008)             "
          ],
          [
           "Alvin and the Chipmunks (2007)             "
          ],
          [
           "Twilight (I) (2008)             "
          ],
          [
           "Paul Blart: Mall Cop (2009)             "
          ],
          [
           "Jennifer's Body (2009)             "
          ],
          [
           "The Final Destination (2009)             "
          ],
          [
           "A Nightmare on Elm Street (2010)             "
          ],
          [
           "Zookeeper (2011)             "
          ],
          [
           "xXx: Return of Xander Cage (2017)             "
          ],
          [
           "Independence Day: Resurgence (2016)             "
          ],
          [
           "Apollo 18 (2011)             "
          ],
          [
           "Hellboy (2019)             "
          ],
          [
           "The 5th Wave (2016)             "
          ],
          [
           "Transformers: The Last Knight (2017)             "
          ],
          [
           "The First Purge (2018)             "
          ],
          [
           "The Karate Kid Part III (1989)             "
          ],
          [
           "Rocky V (1990)             "
          ],
          [
           "Coneheads (1993)             "
          ],
          [
           "Flubber (1997)             "
          ],
          [
           "Spawn (1997)             "
          ],
          [
           "Little Nicky (2000)             "
          ],
          [
           "The Wedding Planner (2001)             "
          ],
          [
           "Queen of the Damned (2002)             "
          ],
          [
           "Maid in Manhattan (2002)             "
          ],
          [
           "Scary Movie 2 (2001)             "
          ],
          [
           "Daredevil (2003)             "
          ],
          [
           "The Stepford Wives (2004)             "
          ],
          [
           "House of Wax (2005)             "
          ],
          [
           "Land of the Lost (2009)             "
          ],
          [
           "Legion (2010)             "
          ],
          [
           "The Dilemma (2011)             "
          ],
          [
           "A Good Day to Die Hard (2013)             "
          ],
          [
           "Jupiter Ascending (2015)             "
          ],
          [
           "Geostorm (2017)             "
          ],
          [
           "Point Break (2015)             "
          ],
          [
           "Spring Breakers (2012)             "
          ],
          [
           "The Counsellor (2013)             "
          ],
          [
           "The Predator (2018)             "
          ],
          [
           "The Circle (I) (2017)             "
          ],
          [
           "Robin Hood (2018)             "
          ],
          [
           "The Nun (2018)             "
          ],
          [
           "Ri¢hie Ri¢h (1994)             "
          ],
          [
           "Batman Forever (1995)             "
          ],
          [
           "Doctor Dolittle (1998)             "
          ],
          [
           "Godzilla (I) (1998)             "
          ],
          [
           "The Astronaut's Wife (1999)             "
          ],
          [
           "Bride of Chucky (1998)             "
          ],
          [
           "Eight Legged Freaks (2002)             "
          ],
          [
           "The Tuxedo (2002)             "
          ],
          [
           "The Ring 2 (2005)             "
          ],
          [
           "Just My Luck (2006)             "
          ],
          [
           "The Eye (2008)             "
          ],
          [
           "Evan Almighty (2007)             "
          ],
          [
           "Snakes on a Plane (2006)             "
          ],
          [
           "Piranha 3D (2010)             "
          ],
          [
           "Max Payne (2008)             "
          ],
          [
           "The Smurfs (2011)             "
          ],
          [
           "Season of the Witch (2011)             "
          ],
          [
           "Bangkok Dangerous (2008)             "
          ],
          [
           "My Bloody Valentine (2009)             "
          ],
          [
           "Red Dawn (2012)             "
          ],
          [
           "Aloha (I) (2015)             "
          ],
          [
           "The Man with the Iron Fists (2012)             "
          ],
          [
           "Drive Angry (2011)             "
          ],
          [
           "Resident Evil: Retribution (2012)             "
          ],
          [
           "Grown Ups 2 (2013)             "
          ],
          [
           "The Mummy (2017)             "
          ],
          [
           "Gods of Egypt (2016)             "
          ],
          [
           "Blackhat (2015)             "
          ],
          [
           "Annabelle (I) (2014)             "
          ],
          [
           "A Nightmare on Elm Street Part 2: Freddy's Revenge (1985)             "
          ],
          [
           "Star Trek V: The Final Frontier (1989)             "
          ],
          [
           "George of the Jungle (1997)             "
          ],
          [
           "Volcano (1997)             "
          ],
          [
           "Charlie's Angels (2000)             "
          ],
          [
           "Spy Kids (2001)             "
          ],
          [
           "Collateral Damage (2002)             "
          ],
          [
           "Dude, Where's My Car? (2000)             "
          ],
          [
           "Stuart Little 2 (2002)             "
          ],
          [
           "The Scorpion King (2002)             "
          ],
          [
           "Showtime (2002)             "
          ],
          [
           "Dreamcatcher (2003)             "
          ],
          [
           "Ghost Ship (2002)             "
          ],
          [
           "The Core (2003)             "
          ],
          [
           "The Hot Chick (2002)             "
          ],
          [
           "Just Married (2003)             "
          ],
          [
           "Scary Movie 3 (2003)             "
          ],
          [
           "The Whole Ten Yards (2004)             "
          ],
          [
           "Rumor Has It... (2005)             "
          ],
          [
           "Æon Flux (2005)             "
          ],
          [
           "R.V.: Runaway Vacation (2006)             "
          ],
          [
           "Cheaper by the Dozen 2 (2005)             "
          ],
          [
           "Lady in the Water (2006)             "
          ],
          [
           "The Omen (2006)             "
          ],
          [
           "Hostel: Part II (2007)             "
          ],
          [
           "Friday the 13th (2009)             "
          ],
          [
           "The House Bunny (2008)             "
          ],
          [
           "Bride Wars (2009)             "
          ],
          [
           "You Don't Mess with the Zohan (2008)             "
          ],
          [
           "The Day the Earth Stood Still (2008)             "
          ],
          [
           "Little Fockers (2010)             "
          ],
          [
           "Couples Retreat (2009)             "
          ],
          [
           "Killers (2010)             "
          ],
          [
           "Seventh Son (I) (2014)             "
          ],
          [
           "Green Lantern (2011)             "
          ],
          [
           "That's My Boy (2012)             "
          ],
          [
           "Your Highness (2011)             "
          ],
          [
           "Baywatch (2017)             "
          ],
          [
           "Red Riding Hood (2011)             "
          ],
          [
           "The Twilight Saga: Breaking Dawn - Part 2 (2012)             "
          ],
          [
           "Vampire Academy (2014)             "
          ],
          [
           "Pompeii (I) (2014)             "
          ],
          [
           "Pixels (2015)             "
          ],
          [
           "The Cloverfield Paradox (2018)             "
          ],
          [
           "Resident Evil: The Final Chapter (2016)             "
          ],
          [
           "Mortdecai (2015)             "
          ],
          [
           "Unfriended (2014)             "
          ],
          [
           "Wonder Woman 1984 (2020)             "
          ],
          [
           "The Dead Don't Die (2019)             "
          ],
          [
           "Dennis the Menace (1993)             "
          ],
          [
           "Beverly Hills Cop III (1994)             "
          ],
          [
           "The Specialist (1994)             "
          ],
          [
           "Judge Dredd (1995)             "
          ],
          [
           "Jingle All The Way (1996)             "
          ],
          [
           "The Nutty Professor (1996)             "
          ],
          [
           "Scream 3 (2000)             "
          ],
          [
           "Urban Legend (1998)             "
          ],
          [
           "Runaway Bride (1999)             "
          ],
          [
           "40 Days and 40 Nights (2002)             "
          ],
          [
           "Thir13en Ghosts (2001)             "
          ],
          [
           "Cube 2: Hypercube (2002)             "
          ],
          [
           "Hulk (2003)             "
          ],
          [
           "Jeepers Creepers 2 (2003)             "
          ],
          [
           "The Santa Clause 2 (2002)             "
          ],
          [
           "Daddy Day Care (2003)             "
          ],
          [
           "Lara Croft Tomb Raider: The Cradle of Life (2003)             "
          ],
          [
           "Alexander (2004)             "
          ],
          [
           "The Box (I) (2009)             "
          ],
          [
           "Babylon A.D. (2008)             "
          ],
          [
           "Monster-in-Law (2005)             "
          ],
          [
           "AVP: Alien vs. Predator (2004)             "
          ],
          [
           "White Chicks (2004)             "
          ],
          [
           "Dark Water (2005)             "
          ],
          [
           "The Black Dahlia (2006)             "
          ],
          [
           "The Pacifier (2005)             "
          ],
          [
           "Failure to Launch (2006)             "
          ],
          [
           "Good Luck Chuck (2007)             "
          ],
          [
           "You, Me and Dupree (2006)             "
          ],
          [
           "Fantastic 4: Rise of the Silver Surfer (2007)             "
          ],
          [
           "R.I.P.D. (2013)             "
          ],
          [
           "Sex and the City (2008)             "
          ],
          [
           "The Shawshank Redemption (1994)             "
          ],
          [
           "The Godfather (1972)             "
          ],
          [
           "The Dark Knight (2008)             "
          ],
          [
           "The Godfather: Part II (1974)             "
          ],
          [
           "12 Angry Men (1957)             "
          ],
          [
           "The Lord of the Rings: The Return of the King (2003)             "
          ],
          [
           "Pulp Fiction (1994)             "
          ],
          [
           "Schindler's List (1993)             "
          ],
          [
           "Brothers in Arms (2016)             "
          ],
          [
           "Inception (2010)             "
          ],
          [
           "Fight Club (1999)             "
          ],
          [
           "The Lord of the Rings: The Fellowship of the Ring (2001)             "
          ],
          [
           "Forrest Gump (1994)             "
          ],
          [
           "The Good, the Bad and the Ugly (1966)             "
          ],
          [
           "Soorarai Pottru (2020)             "
          ],
          [
           "The Lord of the Rings: The Two Towers (2002)             "
          ],
          [
           "The Matrix (1999)             "
          ],
          [
           "Goodfellas (1990)             "
          ],
          [
           "Star Wars: Episode V - The Empire Strikes Back (1980)             "
          ],
          [
           "One Flew Over the Cuckoo's Nest (1975)             "
          ],
          [
           "Hamilton (2020)             "
          ],
          [
           "Parasite (2019)             "
          ],
          [
           "Interstellar (2014)             "
          ],
          [
           "City of God (2002)             "
          ],
          [
           "Spirited Away (2001)             "
          ],
          [
           "Saving Private Ryan (1998)             "
          ],
          [
           "The Green Mile (1999)             "
          ],
          [
           "Life Is Beautiful (1997)             "
          ],
          [
           "Seven (1995)             "
          ],
          [
           "The Silence of the Lambs (1991)             "
          ],
          [
           "Star Wars: Episode IV - A New Hope (1977)             "
          ],
          [
           "Seven Samurai (1954)             "
          ],
          [
           "It's a Wonderful Life (1946)             "
          ],
          [
           "Joker (2019)             "
          ],
          [
           "Whiplash (2014)             "
          ],
          [
           "Untouchable (2011)             "
          ],
          [
           "The Prestige (2006)             "
          ],
          [
           "The Departed (2006)             "
          ],
          [
           "The Pianist (2002)             "
          ],
          [
           "Gladiator (2000)             "
          ],
          [
           "American History X (1998)             "
          ],
          [
           "The Usual Suspects (1995)             "
          ],
          [
           "Leon (1994)             "
          ],
          [
           "The Lion King (1994)             "
          ],
          [
           "Terminator 2: Judgment Day (1991)             "
          ],
          [
           "Cinema Paradiso (1988)             "
          ],
          [
           "Grave of the Fireflies (1988)             "
          ],
          [
           "Back to the Future (1985)             "
          ],
          [
           "Once Upon a Time in the West (1968)             "
          ],
          [
           "Psycho (1960)             "
          ],
          [
           "Casablanca (1942)             "
          ],
          [
           "Modern Times (1936)             "
          ],
          [
           "City Lights (1931)             "
          ],
          [
           "Capernaum (2018)             "
          ],
          [
           "Your Name. (2016)             "
          ],
          [
           "Dangal (2016)             "
          ],
          [
           "Spider-Man: Into the Spider-Verse (2018)             "
          ],
          [
           "Avengers: Endgame (2019)             "
          ],
          [
           "Avengers: Infinity War (2018)             "
          ],
          [
           "Coco (I) (2017)             "
          ],
          [
           "Django Unchained (2012)             "
          ],
          [
           "The Dark Knight Rises (2012)             "
          ],
          [
           "3 Idiots (2009)             "
          ],
          [
           "Taare Zameen Par (2007)             "
          ],
          [
           "WALL·E (2008)             "
          ],
          [
           "The Lives of Others (2006)             "
          ],
          [
           "Oldboy (2003)             "
          ],
          [
           "Memento (2000)             "
          ],
          [
           "Princess Mononoke (1997)             "
          ],
          [
           "Once Upon a Time in America (1984)             "
          ],
          [
           "Raiders of the Lost Ark (1981)             "
          ],
          [
           "The Shining (1980)             "
          ],
          [
           "Apocalypse Now (1979)             "
          ],
          [
           "Alien (1979)             "
          ],
          [
           "Dr. Strangelove or: How I Learned to Stop Worrying and Love the Bomb (1964)             "
          ],
          [
           "Witness for the Prosecution (1957)             "
          ],
          [
           "Paths of Glory (1957)             "
          ],
          [
           "Rear Window (1954)             "
          ],
          [
           "Sunset Blvd. (1950)             "
          ],
          [
           "The Great Dictator (1940)             "
          ],
          [
           "1917 (2019)             "
          ],
          [
           "Andhadhun (2018)             "
          ],
          [
           "The Hunt (2012)             "
          ],
          [
           "A Separation (2011)             "
          ],
          [
           "Incendies (2010)             "
          ],
          [
           "My Father and My Son (2005)             "
          ],
          [
           "Toy Story 3 (2010)             "
          ],
          [
           "Inglourious Basterds (2009)             "
          ],
          [
           "Eternal Sunshine of the Spotless Mind (2004)             "
          ],
          [
           "Amélie (2001)             "
          ],
          [
           "Snatch (2000)             "
          ],
          [
           "Requiem for a Dream (2000)             "
          ],
          [
           "American Beauty (1999)             "
          ],
          [
           "Good Will Hunting (1997)             "
          ],
          [
           "Children of Heaven (1997)             "
          ],
          [
           "Toy Story (1995)             "
          ],
          [
           "Braveheart (1995)             "
          ],
          [
           "Reservoir Dogs (1992)             "
          ],
          [
           "Full Metal Jacket (1987)             "
          ],
          [
           "Come and See (1985)             "
          ],
          [
           "Aliens (1986)             "
          ],
          [
           "Amadeus (1984)             "
          ],
          [
           "Scarface (1983)             "
          ],
          [
           "Star Wars: Episode VI - Return of the Jedi (1983)             "
          ],
          [
           "Das Boot (1981)             "
          ],
          [
           "Taxi Driver (1976)             "
          ],
          [
           "The Sting (1973)             "
          ],
          [
           "A Clockwork Orange (1971)             "
          ],
          [
           "2001: A Space Odyssey (1968)             "
          ],
          [
           "For a Few Dollars More (1965)             "
          ],
          [
           "Lawrence of Arabia (1962)             "
          ],
          [
           "The Apartment (1960)             "
          ],
          [
           "North by Northwest (1959)             "
          ],
          [
           "Vertigo (1958)             "
          ],
          [
           "Singin' in the Rain (1952)             "
          ],
          [
           "Ikiru (1952)             "
          ],
          [
           "Bicycle Thieves (1948)             "
          ],
          [
           "Double Indemnity (1944)             "
          ],
          [
           "Citizen Kane (1941)             "
          ],
          [
           "M (1931)             "
          ],
          [
           "Metropolis (1927)             "
          ],
          [
           "The Kid (1921)             "
          ],
          [
           "Green Book (2018)             "
          ],
          [
           "Three Billboards Outside Ebbing, Missouri (2017)             "
          ],
          [
           "Baahubali 2: The Conclusion (2017)             "
          ],
          [
           "Klaus (2019)             "
          ],
          [
           "Drishyam (2015)             "
          ],
          [
           "Queen (2013)             "
          ],
          [
           "Soul (2020)             "
          ],
          [
           "Bhaag Milkha Bhaag (2013)             "
          ],
          [
           "Gangs of Wasseypur (2012)             "
          ],
          [
           "The Secret in Their Eyes (2009)             "
          ],
          [
           "Warrior (2011)             "
          ],
          [
           "Shutter Island (2010)             "
          ],
          [
           "Up (2009)             "
          ],
          [
           "The Wolf of Wall Street (2013)             "
          ],
          [
           "Chak De! India (2007)             "
          ],
          [
           "There Will Be Blood (2007)             "
          ],
          [
           "Pan's Labyrinth (2006)             "
          ],
          [
           "V for Vendetta (2005)             "
          ],
          [
           "Rang De Basanti (2006)             "
          ],
          [
           "Batman Begins (2005)             "
          ],
          [
           "Swades: We, the People (2004)             "
          ],
          [
           "Downfall (2004)             "
          ],
          [
           "Howl's Moving Castle (2004)             "
          ],
          [
           "A Beautiful Mind (2001)             "
          ],
          [
           "Hera Pheri (2000)             "
          ],
          [
           "Lock, Stock and Two Smoking Barrels (1998)             "
          ],
          [
           "L.A. Confidential (1997)             "
          ],
          [
           "The Bandit (1996)             "
          ],
          [
           "Heat (1995)             "
          ],
          [
           "Casino (1995)             "
          ],
          [
           "Unforgiven (1992)             "
          ],
          [
           "Indiana Jones and the Last Crusade (1989)             "
          ],
          [
           "My Neighbour Totoro (1988)             "
          ],
          [
           "Die Hard (1988)             "
          ],
          [
           "Ran (1985)             "
          ],
          [
           "Raging Bull (1980)             "
          ],
          [
           "Stalker (1979)             "
          ],
          [
           "Sholay (1975)             "
          ],
          [
           "Monty Python and the Holy Grail (1975)             "
          ],
          [
           "The Great Escape (1963)             "
          ],
          [
           "To Kill a Mockingbird (1962)             "
          ],
          [
           "Yojimbo (1961)             "
          ],
          [
           "Judgment at Nuremberg (1961)             "
          ],
          [
           "Some Like It Hot (1959)             "
          ],
          [
           "Wild Strawberries (1957)             "
          ],
          [
           "The Seventh Seal (1957)             "
          ],
          [
           "Dial M for Murder (1954)             "
          ],
          [
           "Tokyo Story (1953)             "
          ],
          [
           "Rashomon (1950)             "
          ],
          [
           "All About Eve (1950)             "
          ],
          [
           "The Treasure of the Sierra Madre (1948)             "
          ],
          [
           "The Gold Rush (1925)             "
          ],
          [
           "Portrait of a Lady on Fire (2019)             "
          ],
          [
           "The Invisible Guest (2016)             "
          ],
          [
           "The Handmaiden (2016)             "
          ],
          [
           "Mommy (I) (2014)             "
          ],
          [
           "Haider (2014)             "
          ],
          [
           "Logan (2017)             "
          ],
          [
           "Room (I) (2015)             "
          ],
          [
           "Wild Tales (2014)             "
          ],
          [
           "PK (2014)             "
          ],
          [
           "OMG: Oh My God! (2012)             "
          ],
          [
           "The Grand Budapest Hotel (2014)             "
          ],
          [
           "Gone Girl (2014)             "
          ],
          [
           "Hacksaw Ridge (2016)             "
          ],
          [
           "Inside Out (I) (2015)             "
          ],
          [
           "Barfi! (2012)             "
          ],
          [
           "12 Years a Slave (2013)             "
          ],
          [
           "Rush (I) (2013)             "
          ],
          [
           "Le Mans '66 (2019)             "
          ],
          [
           "Spotlight (I) (2015)             "
          ],
          [
           "Song of the Sea (2014)             "
          ],
          [
           "Kahaani (2012)             "
          ],
          [
           "Zindagi Na Milegi Dobara (2011)             "
          ],
          [
           "Prisoners (2013)             "
          ],
          [
           "Mad Max: Fury Road (2015)             "
          ],
          [
           "A Wednesday (2008)             "
          ],
          [
           "Gran Torino (2008)             "
          ],
          [
           "Harry Potter and the Deathly Hallows: Part 2 (2011)             "
          ],
          [
           "Hachi: A Dog's Tale (2009)             "
          ],
          [
           "Mary and Max (2009)             "
          ],
          [
           "How to Train Your Dragon (2010)             "
          ],
          [
           "Into the Wild (2007)             "
          ],
          [
           "No Country for Old Men (2007)             "
          ],
          [
           "Million Dollar Baby (2004)             "
          ],
          [
           "Hotel Rwanda (2004)             "
          ],
          [
           "Before Sunset (2004)             "
          ],
          [
           "Munna Bhai M.B.B.S. (2003)             "
          ],
          [
           "Memories of Murder (2003)             "
          ],
          [
           "Dil Chahta Hai (2001)             "
          ],
          [
           "Kill Bill: Vol. 1 (2003)             "
          ],
          [
           "Finding Nemo (2003)             "
          ],
          [
           "Catch Me If You Can (2002)             "
          ],
          [
           "Amores Perros (2000)             "
          ],
          [
           "Monsters, Inc. (2001)             "
          ],
          [
           "Lagaan: Once Upon a Time in India (2001)             "
          ],
          [
           "The Sixth Sense (1999)             "
          ],
          [
           "The Legend of 1900 (1998)             "
          ],
          [
           "The Truman Show (1998)             "
          ],
          [
           "Crna macka, beli macor (1998)             "
          ],
          [
           "The Big Lebowski (1998)             "
          ],
          [
           "In the Mood for Love (2000)             "
          ],
          [
           "Trainspotting (1996)             "
          ],
          [
           "Fargo (1996)             "
          ],
          [
           "Underground (1995)             "
          ],
          [
           "La Haine (1995)             "
          ],
          [
           "Dilwale Dulhania Le Jayenge (1995)             "
          ],
          [
           "Before Sunrise (1995)             "
          ],
          [
           "Three Colours: Red (1994)             "
          ],
          [
           "Chungking Express (1994)             "
          ],
          [
           "Jurassic Park (1993)             "
          ],
          [
           "In the Name of the Father (1993)             "
          ],
          [
           "Dead Poets Society (1989)             "
          ],
          [
           "Stand by Me (1986)             "
          ],
          [
           "Platoon (1986)             "
          ],
          [
           "Paris, Texas (1984)             "
          ],
          [
           "Nausicaä of the Valley of the Wind (1984)             "
          ],
          [
           "The Thing (1982)             "
          ],
          [
           "Pink Floyd: The Wall (1982)             "
          ],
          [
           "Fanny and Alexander (1982)             "
          ],
          [
           "Blade Runner (1982)             "
          ],
          [
           "The Elephant Man (1980)             "
          ],
          [
           "Monty Python's Life of Brian (1979)             "
          ],
          [
           "The Deer Hunter (1978)             "
          ],
          [
           "Rocky (1976)             "
          ],
          [
           "Network (1976)             "
          ],
          [
           "Barry Lyndon (1975)             "
          ],
          [
           "Chinatown (1974)             "
          ]
         ],
         "hovertemplate": "Review Sentiment Score=%{x}<br>IMDB Rating=%{y}<br>title=%{customdata[0]}<extra></extra>",
         "legendgroup": "",
         "marker": {
          "color": "#636efa",
          "symbol": "circle"
         },
         "mode": "markers",
         "name": "",
         "orientation": "v",
         "showlegend": false,
         "type": "scatter",
         "x": [
          -0.444752,
          -0.3846719999999999,
          -0.153744,
          0.332328,
          -0.10558800000000002,
          -0.5697800000000001,
          -0.363348,
          0.16902799999999998,
          0.083896,
          0.15739599999999998,
          -0.08886399999999997,
          0.5433640000000001,
          0.5225400000000001,
          -0.23330799999999996,
          0.368192,
          0.3755120000000001,
          0.251632,
          0.65704,
          -0.11321200000000005,
          -0.034879999999999994,
          0.5851760000000003,
          -0.11931200000000006,
          -0.062212,
          0.569476,
          0.03466399999999993,
          -0.27408800000000005,
          0.577872,
          0.28200800000000004,
          0.405444,
          0.35629999999999995,
          0.26037999999999994,
          0.5431520000000001,
          -0.40792399999999995,
          0.4232440000000001,
          0.027288000000000024,
          0.5597640000000002,
          0.390112,
          0.415864,
          0.8403000000000002,
          -0.4779600000000001,
          0.02339600000000001,
          0.1439,
          0.534,
          -0.0964333333333334,
          -0.15254,
          0.5577599999999999,
          0.6987800000000001,
          -0.301624,
          0.541664,
          0.4715840000000001,
          0.4514240000000001,
          0.481184,
          0.7818160000000001,
          -0.04174399999999998,
          0.5960040000000001,
          0.6527679999999999,
          0.5603400000000002,
          -0.508124,
          0.18771199999999996,
          0.8324399999999998,
          0.41225600000000007,
          0.30452,
          0.523112,
          0.12267600000000005,
          0.6867480000000001,
          0.7432959999999998,
          0.70038,
          -0.09291999999999996,
          0.014312,
          0.8428708333333333,
          0.4045958333333333,
          -0.2376600000000001,
          0.6238239999999999,
          0.32059599999999994,
          -0.07833199999999997,
          -0.5040279999999999,
          0.34806000000000004,
          -0.4334960000000001,
          0.720056,
          0.8204759999999998,
          0.587208,
          0.532064,
          0.39048,
          0.7262879999999999,
          0.7279359999999999,
          0.32632,
          0.38652800000000004,
          -0.18195999999999998,
          0.6167600000000001,
          0.07805199999999995,
          0.08116400000000003,
          0.15474000000000002,
          0.303736,
          0.5549400000000001,
          0.91026,
          0.4366720000000001,
          0.42998400000000003,
          0.10166399999999998,
          0.16923199999999994,
          0.28244400000000003,
          0.762508,
          0.7985720000000001,
          0.7632519999999999,
          0.696524,
          -0.11314000000000002,
          -0.134128,
          0.6132839999999999,
          0.045196000000000014,
          -0.14652400000000004,
          0.31958800000000004,
          0.3190800000000001,
          0.261308,
          0.123272,
          -0.449396,
          -0.049916000000000016,
          0.482608,
          0.960016,
          0.7330840000000001,
          0.27548,
          -0.04809999999999998,
          0.5223720000000001,
          0.8286159999999999,
          0.860368,
          0.444208,
          0.49286,
          0.32309200000000005,
          0.4331200000000001,
          0.4416320000000002,
          0.16166800000000006,
          0.413944,
          -0.686048,
          0.4484080000000001,
          -0.10664799999999998,
          0.39579200000000003,
          0.1447,
          0.31521199999999994,
          -0.315784,
          0.09504,
          -0.030296000000000007,
          -0.08150000000000003,
          0.807928,
          0.7732083333333334,
          0.7075199999999999,
          0.6665960000000001,
          -0.184456,
          0.7517760000000002,
          0.880668,
          0.7090480000000001,
          -0.13916800000000001,
          0.8031800000000001,
          0.07292799999999999,
          0.7819519999999999,
          0.4118719999999999,
          0.28506799999999993,
          0.08640400000000001,
          0.6411719999999999,
          0.17901200000000006,
          0.298712,
          -0.052183999999999967,
          -0.338244,
          0.6774079999999999,
          0.2939,
          0.23792400000000005,
          0.13292400000000004,
          0.02540000000000001,
          0.48735200000000006,
          0.93538,
          0.379896,
          -0.251608,
          0.3811680000000001,
          0.5307,
          0.7864166666666667,
          -0.16598800000000002,
          0.510652,
          0.6902640000000001,
          -0.352628,
          0.3108680000000001,
          0.7041920000000002,
          0.8726200000000001,
          0.8902319999999999,
          0.6797359999999999,
          0.39346,
          0.769636,
          0.938724,
          0.45736800000000005,
          0.6595399999999999,
          0.181544,
          0.642688,
          0.6683160000000001,
          0.7884760000000001,
          0.6664279999999998,
          0.6287560000000001,
          0.25802,
          -0.2662800000000001,
          0.07713999999999999,
          0.8639760000000001,
          0.18560800000000005,
          0.6317,
          0.07741599999999997,
          0.32966,
          0.6105719999999999,
          0.5347080000000001,
          0.36872,
          0.7990000000000002,
          0.274824,
          0.754636,
          0.5057560000000001,
          0.31089599999999995,
          0.8138320000000001,
          0.267512,
          0.265236,
          0.8395400000000001,
          0.06712,
          -0.739064,
          0.6865519999999999,
          -0.220492,
          0.192028,
          -0.033988000000000025,
          0.734364,
          0.040337499999999984,
          0.2834199999999999,
          0.666168,
          0.9205,
          0.8998560000000002,
          0.11446666666666665,
          -0.1543,
          0.6580479999999999,
          -0.015083333333333353,
          0.294752,
          -0.152684,
          0.74152,
          0.5764839999999999,
          0.7147479999999999,
          0.954464,
          0.5976119999999999,
          0.166624,
          0.07205599999999998,
          0.4525440000000001,
          0.8899199999999999,
          0.588032,
          0.423012,
          0.21790416666666668,
          0.08252800000000003,
          0.7849,
          0.5982119999999999,
          0.8904719999999999,
          0.5799319999999999,
          0.8040720000000001,
          0.8213839999999999,
          0.45673199999999997,
          0.9234680000000004,
          0.7288839999999999,
          0.8001279999999997,
          0.72248,
          0.499204,
          0.912544,
          0.8346360000000002,
          0.478884,
          0.3771519999999999,
          0.823728,
          0.6272160000000001,
          0.934712,
          0.8587559999999997,
          0.463975,
          0.7468560000000001,
          0.83816,
          0.7561920000000001,
          0.630736,
          0.631876,
          0.6600239999999999,
          0.8691679999999999,
          0.527676,
          0.7995399999999999,
          0.16940416666666666,
          0.7460040000000001,
          -0.2909240000000001,
          0.817448,
          0.8552519999999998,
          -0.06097599999999999,
          0.6322639999999999,
          0.6765499999999999,
          0.8588,
          0.9054559999999999,
          0.475808,
          0.6351399999999999,
          0.962276,
          0.9274080000000002,
          0.4414600000000001,
          0.21058000000000004,
          0.7713279999999999,
          0.19808800000000001,
          0.4863280000000001,
          0.6391479999999999,
          0.8585959999999999,
          0.720996,
          0.8887759999999999,
          -0.20198000000000005,
          0.964536,
          0.7556759999999998,
          0.16228799999999996,
          0.969392,
          0.7142999999999999,
          0.961944,
          0.34766800000000003,
          0.594156,
          0.9498920000000004,
          0.9425879999999999,
          -0.049564,
          0.5420960000000001,
          0.627324,
          0.39542799999999984,
          0.478984,
          0.8944880000000001,
          0.8746279999999999,
          0.988936,
          0.7106239999999999,
          0.163688,
          0.1864760000000001,
          0.7018080000000001,
          0.051828000000000055,
          0.91774,
          0.07348800000000003,
          -0.06737083333333331,
          0.369088,
          0.5403560000000001,
          0.8202719999999999,
          0.3807719999999999,
          0.73312,
          0.8095999999999998,
          0.5978519999999999,
          0.49423199999999995,
          0.5816680000000001,
          0.07246799999999996,
          0.6760520000000002,
          0.4297200000000001,
          0.8050799999999998,
          0.9335520000000002,
          0.21981199999999998,
          0.8432999999999998,
          0.7569680000000001,
          0.8374240000000001,
          0.4132875000000001,
          0.9210416666666668,
          0.7445636363636364,
          0.916304,
          0.9628583333333336,
          0.8335919999999999,
          0.4672291666666666,
          -0.11030833333333334,
          -0.4035240000000001,
          0.905064,
          0.8457720000000001,
          0.7057519999999999,
          0.400856,
          0.31654799999999994,
          0.4533480000000001,
          0.7241440000000001,
          0.14995999999999998,
          0.6233119999999999,
          0.49612,
          0.8444319999999997,
          0.906856,
          0.8698359999999998,
          0.5534640000000001,
          0.9776879999999999,
          0.7314959999999998,
          0.234876,
          0.55098,
          0.780752,
          -0.293772,
          0.758608,
          0.936672,
          0.8149359999999999,
          0.028912000000000007,
          0.14206399999999994,
          0.8260160000000001,
          0.8937560000000002,
          0.8807039999999999,
          0.8037880000000001,
          0.950596,
          0.6731560000000001,
          0.8619080000000001,
          0.541212,
          0.5575640000000001,
          0.968312,
          0.695136,
          0.9713760000000002,
          0.655416,
          0.4403040000000001,
          0.7999240000000001,
          0.6883239999999999,
          0.7579359999999998,
          0.909428,
          0.08258000000000001,
          0.6602800000000001,
          0.8126359999999999,
          0.8069400000000002,
          0.396668,
          0.7348159999999999,
          0.5024000000000002,
          0.8020479999999999,
          0.7037119999999999,
          0.34434000000000003,
          0.923576,
          0.8509359999999998,
          0.623028,
          0.012619999999999982,
          0.29016400000000003,
          0.5840879999999999,
          0.807144,
          0.8693760000000001,
          0.8632320000000003,
          0.7922239999999999,
          0.6371880000000001,
          0.5185958333333334,
          0.9568800000000002,
          0.8354679999999999,
          0.3490880000000001,
          0.4815120000000001,
          0.5189208333333334,
          0.04370399999999999,
          0.948296,
          0.8098399999999999,
          0.949692,
          0.872276,
          0.6913199999999999,
          0.870992,
          0.710792,
          0.68782,
          0.344632,
          0.657144,
          0.6151439999999999,
          0.9442120000000002,
          0.8919400000000001,
          0.6135480000000001,
          0.05882800000000005,
          0.4784999999999999,
          0.139464,
          0.6664359999999999,
          -0.203772,
          0.915296,
          0.8389359999999999,
          0.320492,
          0.945896,
          0.7916599999999999,
          0.9897959999999999,
          0.11134000000000002,
          0.223768,
          0.5656640000000001,
          0.4204279999999999,
          0.2984960000000001,
          0.769324,
          0.7269800000000001,
          0.86,
          0.17925999999999995,
          0.05556400000000003,
          0.93294,
          0.5570080000000002,
          0.8999760000000003,
          0.8375959999999998,
          0.022483999999999976,
          0.8943480000000001,
          0.460172,
          0.9754166666666664,
          0.9394039999999998,
          0.215712,
          0.8188800000000002,
          0.9793280000000001,
          0.74082,
          0.7708439999999999,
          0.8610480000000001,
          0.8754239999999998,
          0.950832,
          0.7274719999999999,
          0.7460119999999999,
          0.6519719999999998,
          0.283432,
          -0.21430833333333327,
          0.988196,
          0.794896,
          0.7681279999999999,
          0.8697280000000002,
          0.907112,
          -0.011462500000000014,
          0.8446800000000002,
          0.8889600000000001,
          -0.3923200000000001,
          0.64888,
          0.69884,
          0.6142280000000001,
          0.158856,
          0.5712199999999998,
          0.6588719999999999,
          0.579284,
          0.7717480000000001,
          0.1861,
          0.9183680000000001,
          0.4617359999999999,
          0.6288916666666666,
          0.7502280000000002
         ],
         "xaxis": "x",
         "y": [
          1.1,
          1.4,
          1.9,
          2.2,
          2.4,
          2.4,
          2.5,
          2.5,
          2.8,
          2.8,
          3.3,
          3.3,
          3.4,
          3.5,
          3.7,
          3.7,
          3.8,
          3.8,
          3.9,
          4,
          4,
          4,
          4,
          4.1,
          4.1,
          4.2,
          4.3,
          4.3,
          4.3,
          4.3,
          4.4,
          4.4,
          4.4,
          4.4,
          4.4,
          4.5,
          4.5,
          4.5,
          4.5,
          4.5,
          4.5,
          4.5,
          4.6,
          4.6,
          4.6,
          4.7,
          4.7,
          4.7,
          4.7,
          4.7,
          4.7,
          4.8,
          4.8,
          4.8,
          4.8,
          4.8,
          4.8,
          4.8,
          4.8,
          4.9,
          4.9,
          4.9,
          4.9,
          4.9,
          4.9,
          4.9,
          4.9,
          4.9,
          4.9,
          5,
          5,
          5,
          5,
          5,
          5,
          5,
          5,
          5,
          5.1,
          5.1,
          5.1,
          5.1,
          5.1,
          5.1,
          5.1,
          5.1,
          5.1,
          5.1,
          5.1,
          5.1,
          5.1,
          5.1,
          5.2,
          5.2,
          5.2,
          5.2,
          5.2,
          5.2,
          5.2,
          5.2,
          5.2,
          5.2,
          5.2,
          5.2,
          5.2,
          5.2,
          5.2,
          5.2,
          5.2,
          5.2,
          5.2,
          5.2,
          5.2,
          5.2,
          5.3,
          5.3,
          5.3,
          5.3,
          5.3,
          5.3,
          5.3,
          5.3,
          5.3,
          5.3,
          5.3,
          5.3,
          5.3,
          5.3,
          5.3,
          5.3,
          5.3,
          5.3,
          5.3,
          5.3,
          5.3,
          5.3,
          5.3,
          5.3,
          5.3,
          5.3,
          5.4,
          5.4,
          5.4,
          5.4,
          5.4,
          5.4,
          5.4,
          5.4,
          5.4,
          5.4,
          5.4,
          5.4,
          5.4,
          5.4,
          5.4,
          5.4,
          5.4,
          5.4,
          5.4,
          5.4,
          5.4,
          5.4,
          5.4,
          5.4,
          5.4,
          5.4,
          5.4,
          5.4,
          5.4,
          5.5,
          5.5,
          5.5,
          5.5,
          5.5,
          5.5,
          5.5,
          5.5,
          5.5,
          5.5,
          5.5,
          5.5,
          5.5,
          5.5,
          5.5,
          5.5,
          5.5,
          5.5,
          5.5,
          5.5,
          5.5,
          5.5,
          5.5,
          5.5,
          5.5,
          5.5,
          5.5,
          5.5,
          5.5,
          5.5,
          5.5,
          5.5,
          5.5,
          5.5,
          5.5,
          5.5,
          5.5,
          5.5,
          5.5,
          5.5,
          5.5,
          5.5,
          5.5,
          5.5,
          5.5,
          5.5,
          5.5,
          5.5,
          5.5,
          5.6,
          5.6,
          5.6,
          5.6,
          5.6,
          5.6,
          5.6,
          5.6,
          5.6,
          5.6,
          5.6,
          5.6,
          5.6,
          5.6,
          5.6,
          5.6,
          5.6,
          5.6,
          5.6,
          5.6,
          5.6,
          5.6,
          5.6,
          5.6,
          5.6,
          5.6,
          5.6,
          5.6,
          5.6,
          5.6,
          5.6,
          5.6,
          9.3,
          9.2,
          9,
          9,
          9,
          8.9,
          8.9,
          8.9,
          8.8,
          8.8,
          8.8,
          8.8,
          8.8,
          8.8,
          8.7,
          8.7,
          8.7,
          8.7,
          8.7,
          8.7,
          8.6,
          8.6,
          8.6,
          8.6,
          8.6,
          8.6,
          8.6,
          8.6,
          8.6,
          8.6,
          8.6,
          8.6,
          8.6,
          8.5,
          8.5,
          8.5,
          8.5,
          8.5,
          8.5,
          8.5,
          8.5,
          8.5,
          8.5,
          8.5,
          8.5,
          8.5,
          8.5,
          8.5,
          8.5,
          8.5,
          8.5,
          8.5,
          8.5,
          8.4,
          8.4,
          8.4,
          8.4,
          8.4,
          8.4,
          8.4,
          8.4,
          8.4,
          8.4,
          8.4,
          8.4,
          8.4,
          8.4,
          8.4,
          8.4,
          8.4,
          8.4,
          8.4,
          8.4,
          8.4,
          8.4,
          8.4,
          8.4,
          8.4,
          8.4,
          8.4,
          8.3,
          8.3,
          8.3,
          8.3,
          8.3,
          8.3,
          8.3,
          8.3,
          8.3,
          8.3,
          8.3,
          8.3,
          8.3,
          8.3,
          8.3,
          8.3,
          8.3,
          8.3,
          8.3,
          8.3,
          8.3,
          8.3,
          8.3,
          8.3,
          8.3,
          8.3,
          8.3,
          8.3,
          8.3,
          8.3,
          8.3,
          8.3,
          8.3,
          8.3,
          8.3,
          8.3,
          8.3,
          8.3,
          8.3,
          8.3,
          8.3,
          8.3,
          8.2,
          8.2,
          8.2,
          8.2,
          8.2,
          8.2,
          8.2,
          8.2,
          8.2,
          8.2,
          8.2,
          8.2,
          8.2,
          8.2,
          8.2,
          8.2,
          8.2,
          8.2,
          8.2,
          8.2,
          8.2,
          8.2,
          8.2,
          8.2,
          8.2,
          8.2,
          8.2,
          8.2,
          8.2,
          8.2,
          8.2,
          8.2,
          8.2,
          8.2,
          8.2,
          8.2,
          8.2,
          8.2,
          8.2,
          8.2,
          8.2,
          8.2,
          8.2,
          8.2,
          8.2,
          8.2,
          8.2,
          8.2,
          8.2,
          8.2,
          8.2,
          8.2,
          8.1,
          8.1,
          8.1,
          8.1,
          8.1,
          8.1,
          8.1,
          8.1,
          8.1,
          8.1,
          8.1,
          8.1,
          8.1,
          8.1,
          8.1,
          8.1,
          8.1,
          8.1,
          8.1,
          8.1,
          8.1,
          8.1,
          8.1,
          8.1,
          8.1,
          8.1,
          8.1,
          8.1,
          8.1,
          8.1,
          8.1,
          8.1,
          8.1,
          8.1,
          8.1,
          8.1,
          8.1,
          8.1,
          8.1,
          8.1,
          8.1,
          8.1,
          8.1,
          8.1,
          8.1,
          8.1,
          8.1,
          8.1,
          8.1,
          8.1,
          8.1,
          8.1,
          8.1,
          8.1,
          8.1,
          8.1,
          8.1,
          8.1,
          8.1,
          8.1,
          8.1,
          8.1,
          8.1,
          8.1,
          8.1,
          8.1,
          8.1,
          8.1,
          8.1,
          8.1,
          8.1,
          8.1,
          8.1,
          8.1,
          8.1,
          8.1
         ],
         "yaxis": "y"
        }
       ],
       "layout": {
        "legend": {
         "tracegroupgap": 0
        },
        "template": {
         "data": {
          "bar": [
           {
            "error_x": {
             "color": "#2a3f5f"
            },
            "error_y": {
             "color": "#2a3f5f"
            },
            "marker": {
             "line": {
              "color": "#E5ECF6",
              "width": 0.5
             }
            },
            "type": "bar"
           }
          ],
          "barpolar": [
           {
            "marker": {
             "line": {
              "color": "#E5ECF6",
              "width": 0.5
             }
            },
            "type": "barpolar"
           }
          ],
          "carpet": [
           {
            "aaxis": {
             "endlinecolor": "#2a3f5f",
             "gridcolor": "white",
             "linecolor": "white",
             "minorgridcolor": "white",
             "startlinecolor": "#2a3f5f"
            },
            "baxis": {
             "endlinecolor": "#2a3f5f",
             "gridcolor": "white",
             "linecolor": "white",
             "minorgridcolor": "white",
             "startlinecolor": "#2a3f5f"
            },
            "type": "carpet"
           }
          ],
          "choropleth": [
           {
            "colorbar": {
             "outlinewidth": 0,
             "ticks": ""
            },
            "type": "choropleth"
           }
          ],
          "contour": [
           {
            "colorbar": {
             "outlinewidth": 0,
             "ticks": ""
            },
            "colorscale": [
             [
              0,
              "#0d0887"
             ],
             [
              0.1111111111111111,
              "#46039f"
             ],
             [
              0.2222222222222222,
              "#7201a8"
             ],
             [
              0.3333333333333333,
              "#9c179e"
             ],
             [
              0.4444444444444444,
              "#bd3786"
             ],
             [
              0.5555555555555556,
              "#d8576b"
             ],
             [
              0.6666666666666666,
              "#ed7953"
             ],
             [
              0.7777777777777778,
              "#fb9f3a"
             ],
             [
              0.8888888888888888,
              "#fdca26"
             ],
             [
              1,
              "#f0f921"
             ]
            ],
            "type": "contour"
           }
          ],
          "contourcarpet": [
           {
            "colorbar": {
             "outlinewidth": 0,
             "ticks": ""
            },
            "type": "contourcarpet"
           }
          ],
          "heatmap": [
           {
            "colorbar": {
             "outlinewidth": 0,
             "ticks": ""
            },
            "colorscale": [
             [
              0,
              "#0d0887"
             ],
             [
              0.1111111111111111,
              "#46039f"
             ],
             [
              0.2222222222222222,
              "#7201a8"
             ],
             [
              0.3333333333333333,
              "#9c179e"
             ],
             [
              0.4444444444444444,
              "#bd3786"
             ],
             [
              0.5555555555555556,
              "#d8576b"
             ],
             [
              0.6666666666666666,
              "#ed7953"
             ],
             [
              0.7777777777777778,
              "#fb9f3a"
             ],
             [
              0.8888888888888888,
              "#fdca26"
             ],
             [
              1,
              "#f0f921"
             ]
            ],
            "type": "heatmap"
           }
          ],
          "heatmapgl": [
           {
            "colorbar": {
             "outlinewidth": 0,
             "ticks": ""
            },
            "colorscale": [
             [
              0,
              "#0d0887"
             ],
             [
              0.1111111111111111,
              "#46039f"
             ],
             [
              0.2222222222222222,
              "#7201a8"
             ],
             [
              0.3333333333333333,
              "#9c179e"
             ],
             [
              0.4444444444444444,
              "#bd3786"
             ],
             [
              0.5555555555555556,
              "#d8576b"
             ],
             [
              0.6666666666666666,
              "#ed7953"
             ],
             [
              0.7777777777777778,
              "#fb9f3a"
             ],
             [
              0.8888888888888888,
              "#fdca26"
             ],
             [
              1,
              "#f0f921"
             ]
            ],
            "type": "heatmapgl"
           }
          ],
          "histogram": [
           {
            "marker": {
             "colorbar": {
              "outlinewidth": 0,
              "ticks": ""
             }
            },
            "type": "histogram"
           }
          ],
          "histogram2d": [
           {
            "colorbar": {
             "outlinewidth": 0,
             "ticks": ""
            },
            "colorscale": [
             [
              0,
              "#0d0887"
             ],
             [
              0.1111111111111111,
              "#46039f"
             ],
             [
              0.2222222222222222,
              "#7201a8"
             ],
             [
              0.3333333333333333,
              "#9c179e"
             ],
             [
              0.4444444444444444,
              "#bd3786"
             ],
             [
              0.5555555555555556,
              "#d8576b"
             ],
             [
              0.6666666666666666,
              "#ed7953"
             ],
             [
              0.7777777777777778,
              "#fb9f3a"
             ],
             [
              0.8888888888888888,
              "#fdca26"
             ],
             [
              1,
              "#f0f921"
             ]
            ],
            "type": "histogram2d"
           }
          ],
          "histogram2dcontour": [
           {
            "colorbar": {
             "outlinewidth": 0,
             "ticks": ""
            },
            "colorscale": [
             [
              0,
              "#0d0887"
             ],
             [
              0.1111111111111111,
              "#46039f"
             ],
             [
              0.2222222222222222,
              "#7201a8"
             ],
             [
              0.3333333333333333,
              "#9c179e"
             ],
             [
              0.4444444444444444,
              "#bd3786"
             ],
             [
              0.5555555555555556,
              "#d8576b"
             ],
             [
              0.6666666666666666,
              "#ed7953"
             ],
             [
              0.7777777777777778,
              "#fb9f3a"
             ],
             [
              0.8888888888888888,
              "#fdca26"
             ],
             [
              1,
              "#f0f921"
             ]
            ],
            "type": "histogram2dcontour"
           }
          ],
          "mesh3d": [
           {
            "colorbar": {
             "outlinewidth": 0,
             "ticks": ""
            },
            "type": "mesh3d"
           }
          ],
          "parcoords": [
           {
            "line": {
             "colorbar": {
              "outlinewidth": 0,
              "ticks": ""
             }
            },
            "type": "parcoords"
           }
          ],
          "pie": [
           {
            "automargin": true,
            "type": "pie"
           }
          ],
          "scatter": [
           {
            "marker": {
             "colorbar": {
              "outlinewidth": 0,
              "ticks": ""
             }
            },
            "type": "scatter"
           }
          ],
          "scatter3d": [
           {
            "line": {
             "colorbar": {
              "outlinewidth": 0,
              "ticks": ""
             }
            },
            "marker": {
             "colorbar": {
              "outlinewidth": 0,
              "ticks": ""
             }
            },
            "type": "scatter3d"
           }
          ],
          "scattercarpet": [
           {
            "marker": {
             "colorbar": {
              "outlinewidth": 0,
              "ticks": ""
             }
            },
            "type": "scattercarpet"
           }
          ],
          "scattergeo": [
           {
            "marker": {
             "colorbar": {
              "outlinewidth": 0,
              "ticks": ""
             }
            },
            "type": "scattergeo"
           }
          ],
          "scattergl": [
           {
            "marker": {
             "colorbar": {
              "outlinewidth": 0,
              "ticks": ""
             }
            },
            "type": "scattergl"
           }
          ],
          "scattermapbox": [
           {
            "marker": {
             "colorbar": {
              "outlinewidth": 0,
              "ticks": ""
             }
            },
            "type": "scattermapbox"
           }
          ],
          "scatterpolar": [
           {
            "marker": {
             "colorbar": {
              "outlinewidth": 0,
              "ticks": ""
             }
            },
            "type": "scatterpolar"
           }
          ],
          "scatterpolargl": [
           {
            "marker": {
             "colorbar": {
              "outlinewidth": 0,
              "ticks": ""
             }
            },
            "type": "scatterpolargl"
           }
          ],
          "scatterternary": [
           {
            "marker": {
             "colorbar": {
              "outlinewidth": 0,
              "ticks": ""
             }
            },
            "type": "scatterternary"
           }
          ],
          "surface": [
           {
            "colorbar": {
             "outlinewidth": 0,
             "ticks": ""
            },
            "colorscale": [
             [
              0,
              "#0d0887"
             ],
             [
              0.1111111111111111,
              "#46039f"
             ],
             [
              0.2222222222222222,
              "#7201a8"
             ],
             [
              0.3333333333333333,
              "#9c179e"
             ],
             [
              0.4444444444444444,
              "#bd3786"
             ],
             [
              0.5555555555555556,
              "#d8576b"
             ],
             [
              0.6666666666666666,
              "#ed7953"
             ],
             [
              0.7777777777777778,
              "#fb9f3a"
             ],
             [
              0.8888888888888888,
              "#fdca26"
             ],
             [
              1,
              "#f0f921"
             ]
            ],
            "type": "surface"
           }
          ],
          "table": [
           {
            "cells": {
             "fill": {
              "color": "#EBF0F8"
             },
             "line": {
              "color": "white"
             }
            },
            "header": {
             "fill": {
              "color": "#C8D4E3"
             },
             "line": {
              "color": "white"
             }
            },
            "type": "table"
           }
          ]
         },
         "layout": {
          "annotationdefaults": {
           "arrowcolor": "#2a3f5f",
           "arrowhead": 0,
           "arrowwidth": 1
          },
          "coloraxis": {
           "colorbar": {
            "outlinewidth": 0,
            "ticks": ""
           }
          },
          "colorscale": {
           "diverging": [
            [
             0,
             "#8e0152"
            ],
            [
             0.1,
             "#c51b7d"
            ],
            [
             0.2,
             "#de77ae"
            ],
            [
             0.3,
             "#f1b6da"
            ],
            [
             0.4,
             "#fde0ef"
            ],
            [
             0.5,
             "#f7f7f7"
            ],
            [
             0.6,
             "#e6f5d0"
            ],
            [
             0.7,
             "#b8e186"
            ],
            [
             0.8,
             "#7fbc41"
            ],
            [
             0.9,
             "#4d9221"
            ],
            [
             1,
             "#276419"
            ]
           ],
           "sequential": [
            [
             0,
             "#0d0887"
            ],
            [
             0.1111111111111111,
             "#46039f"
            ],
            [
             0.2222222222222222,
             "#7201a8"
            ],
            [
             0.3333333333333333,
             "#9c179e"
            ],
            [
             0.4444444444444444,
             "#bd3786"
            ],
            [
             0.5555555555555556,
             "#d8576b"
            ],
            [
             0.6666666666666666,
             "#ed7953"
            ],
            [
             0.7777777777777778,
             "#fb9f3a"
            ],
            [
             0.8888888888888888,
             "#fdca26"
            ],
            [
             1,
             "#f0f921"
            ]
           ],
           "sequentialminus": [
            [
             0,
             "#0d0887"
            ],
            [
             0.1111111111111111,
             "#46039f"
            ],
            [
             0.2222222222222222,
             "#7201a8"
            ],
            [
             0.3333333333333333,
             "#9c179e"
            ],
            [
             0.4444444444444444,
             "#bd3786"
            ],
            [
             0.5555555555555556,
             "#d8576b"
            ],
            [
             0.6666666666666666,
             "#ed7953"
            ],
            [
             0.7777777777777778,
             "#fb9f3a"
            ],
            [
             0.8888888888888888,
             "#fdca26"
            ],
            [
             1,
             "#f0f921"
            ]
           ]
          },
          "colorway": [
           "#636efa",
           "#EF553B",
           "#00cc96",
           "#ab63fa",
           "#FFA15A",
           "#19d3f3",
           "#FF6692",
           "#B6E880",
           "#FF97FF",
           "#FECB52"
          ],
          "font": {
           "color": "#2a3f5f"
          },
          "geo": {
           "bgcolor": "white",
           "lakecolor": "white",
           "landcolor": "#E5ECF6",
           "showlakes": true,
           "showland": true,
           "subunitcolor": "white"
          },
          "hoverlabel": {
           "align": "left"
          },
          "hovermode": "closest",
          "mapbox": {
           "style": "light"
          },
          "paper_bgcolor": "white",
          "plot_bgcolor": "#E5ECF6",
          "polar": {
           "angularaxis": {
            "gridcolor": "white",
            "linecolor": "white",
            "ticks": ""
           },
           "bgcolor": "#E5ECF6",
           "radialaxis": {
            "gridcolor": "white",
            "linecolor": "white",
            "ticks": ""
           }
          },
          "scene": {
           "xaxis": {
            "backgroundcolor": "#E5ECF6",
            "gridcolor": "white",
            "gridwidth": 2,
            "linecolor": "white",
            "showbackground": true,
            "ticks": "",
            "zerolinecolor": "white"
           },
           "yaxis": {
            "backgroundcolor": "#E5ECF6",
            "gridcolor": "white",
            "gridwidth": 2,
            "linecolor": "white",
            "showbackground": true,
            "ticks": "",
            "zerolinecolor": "white"
           },
           "zaxis": {
            "backgroundcolor": "#E5ECF6",
            "gridcolor": "white",
            "gridwidth": 2,
            "linecolor": "white",
            "showbackground": true,
            "ticks": "",
            "zerolinecolor": "white"
           }
          },
          "shapedefaults": {
           "line": {
            "color": "#2a3f5f"
           }
          },
          "ternary": {
           "aaxis": {
            "gridcolor": "white",
            "linecolor": "white",
            "ticks": ""
           },
           "baxis": {
            "gridcolor": "white",
            "linecolor": "white",
            "ticks": ""
           },
           "bgcolor": "#E5ECF6",
           "caxis": {
            "gridcolor": "white",
            "linecolor": "white",
            "ticks": ""
           }
          },
          "title": {
           "x": 0.05
          },
          "xaxis": {
           "automargin": true,
           "gridcolor": "white",
           "linecolor": "white",
           "ticks": "",
           "title": {
            "standoff": 15
           },
           "zerolinecolor": "white",
           "zerolinewidth": 2
          },
          "yaxis": {
           "automargin": true,
           "gridcolor": "white",
           "linecolor": "white",
           "ticks": "",
           "title": {
            "standoff": 15
           },
           "zerolinecolor": "white",
           "zerolinewidth": 2
          }
         }
        },
        "title": {
         "text": "IMDB Movie Ratings vs. Review Sentiment Score"
        },
        "xaxis": {
         "anchor": "y",
         "domain": [
          0,
          1
         ],
         "title": {
          "text": "Review Sentiment Score"
         }
        },
        "yaxis": {
         "anchor": "x",
         "domain": [
          0,
          1
         ],
         "title": {
          "text": "IMDB Rating"
         }
        }
       }
      },
      "text/html": [
       "<div>                            <div id=\"2a0a2457-76b3-4fa4-a09d-4b40979dc68d\" class=\"plotly-graph-div\" style=\"height:525px; width:100%;\"></div>            <script type=\"text/javascript\">                require([\"plotly\"], function(Plotly) {                    window.PLOTLYENV=window.PLOTLYENV || {};                                    if (document.getElementById(\"2a0a2457-76b3-4fa4-a09d-4b40979dc68d\")) {                    Plotly.newPlot(                        \"2a0a2457-76b3-4fa4-a09d-4b40979dc68d\",                        [{\"customdata\": [[\"Sadak 2 (2020)             \"], [\"Reis (2017)             \"], [\"Disaster Movie (2008)             \"], [\"Son of the Mask (2005)             \"], [\"Epic Movie (2007)             \"], [\"Gunday (2014)             \"], [\"Battlefield Earth (2000)             \"], [\"Dragonball Evolution (2009)             \"], [\"Date Movie (2006)             \"], [\"Meet the Spartans (2008)             \"], [\"Jack and Jill (I) (2011)             \"], [\"The Emoji Movie (2017)             \"], [\"Catwoman (2004)             \"], [\"Scary Movie 5 (2013)             \"], [\"The Room (2003)             \"], [\"The Wicker Man (2006)             \"], [\"Batman & Robin (1997)             \"], [\"The Love Guru (2008)             \"], [\"Speed 2: Cruise Control (1997)             \"], [\"Street Fighter (1994)             \"], [\"The Cat in the Hat (2003)             \"], [\"The Last Airbender (2010)             \"], [\"Enes Batur Hayal mi Ger\\u00e7ek mi? (2018)             \"], [\"Norbit (2007)             \"], [\"Fifty Shades of Grey (2015)             \"], [\"The Legend of Hercules (2014)             \"], [\"Spy Kids 3: Game Over (2003)             \"], [\"Ghost Rider: Spirit of Vengeance (2011)             \"], [\"Movie 43 (2013)             \"], [\"Fantastic Four (2015)             \"], [\"Jason X (2001)             \"], [\"Little Man (III) (2006)             \"], [\"The Human Centipede (First Sequence) (2009)             \"], [\"Skyline (2010)             \"], [\"LOL (2012)             \"], [\"Home Alone 3 (1997)             \"], [\"xXx\\u00b2: The Next Level (2005)             \"], [\"Ultraviolet (2006)             \"], [\"Superhero Movie (2008)             \"], [\"Death Note (I) (2017)             \"], [\"Sex and the City 2 (2010)             \"], [\"Fifty Shades Freed (2018)             \"], [\"Junior (1994)             \"], [\"Paranormal Activity 4 (2012)             \"], [\"Fifty Shades Darker (2017)             \"], [\"I Still Know What You Did Last Summer (1998)             \"], [\"Elektra (2005)             \"], [\"AVPR: Aliens vs Predator - Requiem (2007)             \"], [\"Jonah Hex (2010)             \"], [\"The Twilight Saga: New Moon (2009)             \"], [\"Zoolander 2 (2016)             \"], [\"Anaconda (1997)             \"], [\"The Animal (2001)             \"], [\"Legally Blonde 2: Red, White & Blonde (2003)             \"], [\"Bewitched (2005)             \"], [\"The Spirit (2008)             \"], [\"High School Musical 3: Senior Year (2008)             \"], [\"After Earth (2013)             \"], [\"Charlie's Angels (2019)             \"], [\"The Flintstones (1994)             \"], [\"Showgirls (1995)             \"], [\"Ghosts of Mars (2001)             \"], [\"Charlie's Angels: Full Throttle (2003)             \"], [\"Poltergeist (2015)             \"], [\"Year One (2009)             \"], [\"The Darkest Hour (2011)             \"], [\"Gulliver's Travels (2010)             \"], [\"The Twilight Saga: Breaking Dawn - Part 1 (2011)             \"], [\"Knock Knock (I) (2015)             \"], [\"Superman III (1983)             \"], [\"Wild Wild West (1999)             \"], [\"The Haunting (1999)             \"], [\"Garfield (2004)             \"], [\"Silent Hill: Revelation (2012)             \"], [\"The Happening (2008)             \"], [\"A Serbian Film (2010)             \"], [\"The Twilight Saga: Eclipse (2010)             \"], [\"Chernobyl Diaries (2012)             \"], [\"Cats & Dogs (2001)             \"], [\"Scooby-Doo (2002)             \"], [\"Scary Movie 4 (2006)             \"], [\"The Dukes of Hazzard (2005)             \"], [\"Stealth (2005)             \"], [\"Miss Congeniality 2: Armed & Fabulous (2005)             \"], [\"10,000 BC (2008)             \"], [\"Eragon (2006)             \"], [\"My Super Ex-Girlfriend (2006)             \"], [\"The Hills Have Eyes II (2007)             \"], [\"I, Frankenstein (2014)             \"], [\"Abduction (I) (2011)             \"], [\"The Snowman (2017)             \"], [\"Sex Tape (2014)             \"], [\"Lost in Space (1998)             \"], [\"Big Momma's House (2000)             \"], [\"The Sweetest Thing (2002)             \"], [\"Ghost Rider (2007)             \"], [\"Spy Kids 2: Island of Lost Dreams (2002)             \"], [\"Doom (2005)             \"], [\"Conan the Barbarian (2011)             \"], [\"The Mummy: Tomb of the Dragon Emperor (2008)             \"], [\"Alvin and the Chipmunks (2007)             \"], [\"Twilight (I) (2008)             \"], [\"Paul Blart: Mall Cop (2009)             \"], [\"Jennifer's Body (2009)             \"], [\"The Final Destination (2009)             \"], [\"A Nightmare on Elm Street (2010)             \"], [\"Zookeeper (2011)             \"], [\"xXx: Return of Xander Cage (2017)             \"], [\"Independence Day: Resurgence (2016)             \"], [\"Apollo 18 (2011)             \"], [\"Hellboy (2019)             \"], [\"The 5th Wave (2016)             \"], [\"Transformers: The Last Knight (2017)             \"], [\"The First Purge (2018)             \"], [\"The Karate Kid Part III (1989)             \"], [\"Rocky V (1990)             \"], [\"Coneheads (1993)             \"], [\"Flubber (1997)             \"], [\"Spawn (1997)             \"], [\"Little Nicky (2000)             \"], [\"The Wedding Planner (2001)             \"], [\"Queen of the Damned (2002)             \"], [\"Maid in Manhattan (2002)             \"], [\"Scary Movie 2 (2001)             \"], [\"Daredevil (2003)             \"], [\"The Stepford Wives (2004)             \"], [\"House of Wax (2005)             \"], [\"Land of the Lost (2009)             \"], [\"Legion (2010)             \"], [\"The Dilemma (2011)             \"], [\"A Good Day to Die Hard (2013)             \"], [\"Jupiter Ascending (2015)             \"], [\"Geostorm (2017)             \"], [\"Point Break (2015)             \"], [\"Spring Breakers (2012)             \"], [\"The Counsellor (2013)             \"], [\"The Predator (2018)             \"], [\"The Circle (I) (2017)             \"], [\"Robin Hood (2018)             \"], [\"The Nun (2018)             \"], [\"Ri\\u00a2hie Ri\\u00a2h (1994)             \"], [\"Batman Forever (1995)             \"], [\"Doctor Dolittle (1998)             \"], [\"Godzilla (I) (1998)             \"], [\"The Astronaut's Wife (1999)             \"], [\"Bride of Chucky (1998)             \"], [\"Eight Legged Freaks (2002)             \"], [\"The Tuxedo (2002)             \"], [\"The Ring 2 (2005)             \"], [\"Just My Luck (2006)             \"], [\"The Eye (2008)             \"], [\"Evan Almighty (2007)             \"], [\"Snakes on a Plane (2006)             \"], [\"Piranha 3D (2010)             \"], [\"Max Payne (2008)             \"], [\"The Smurfs (2011)             \"], [\"Season of the Witch (2011)             \"], [\"Bangkok Dangerous (2008)             \"], [\"My Bloody Valentine (2009)             \"], [\"Red Dawn (2012)             \"], [\"Aloha (I) (2015)             \"], [\"The Man with the Iron Fists (2012)             \"], [\"Drive Angry (2011)             \"], [\"Resident Evil: Retribution (2012)             \"], [\"Grown Ups 2 (2013)             \"], [\"The Mummy (2017)             \"], [\"Gods of Egypt (2016)             \"], [\"Blackhat (2015)             \"], [\"Annabelle (I) (2014)             \"], [\"A Nightmare on Elm Street Part 2: Freddy's Revenge (1985)             \"], [\"Star Trek V: The Final Frontier (1989)             \"], [\"George of the Jungle (1997)             \"], [\"Volcano (1997)             \"], [\"Charlie's Angels (2000)             \"], [\"Spy Kids (2001)             \"], [\"Collateral Damage (2002)             \"], [\"Dude, Where's My Car? (2000)             \"], [\"Stuart Little 2 (2002)             \"], [\"The Scorpion King (2002)             \"], [\"Showtime (2002)             \"], [\"Dreamcatcher (2003)             \"], [\"Ghost Ship (2002)             \"], [\"The Core (2003)             \"], [\"The Hot Chick (2002)             \"], [\"Just Married (2003)             \"], [\"Scary Movie 3 (2003)             \"], [\"The Whole Ten Yards (2004)             \"], [\"Rumor Has It... (2005)             \"], [\"\\u00c6on Flux (2005)             \"], [\"R.V.: Runaway Vacation (2006)             \"], [\"Cheaper by the Dozen 2 (2005)             \"], [\"Lady in the Water (2006)             \"], [\"The Omen (2006)             \"], [\"Hostel: Part II (2007)             \"], [\"Friday the 13th (2009)             \"], [\"The House Bunny (2008)             \"], [\"Bride Wars (2009)             \"], [\"You Don't Mess with the Zohan (2008)             \"], [\"The Day the Earth Stood Still (2008)             \"], [\"Little Fockers (2010)             \"], [\"Couples Retreat (2009)             \"], [\"Killers (2010)             \"], [\"Seventh Son (I) (2014)             \"], [\"Green Lantern (2011)             \"], [\"That's My Boy (2012)             \"], [\"Your Highness (2011)             \"], [\"Baywatch (2017)             \"], [\"Red Riding Hood (2011)             \"], [\"The Twilight Saga: Breaking Dawn - Part 2 (2012)             \"], [\"Vampire Academy (2014)             \"], [\"Pompeii (I) (2014)             \"], [\"Pixels (2015)             \"], [\"The Cloverfield Paradox (2018)             \"], [\"Resident Evil: The Final Chapter (2016)             \"], [\"Mortdecai (2015)             \"], [\"Unfriended (2014)             \"], [\"Wonder Woman 1984 (2020)             \"], [\"The Dead Don't Die (2019)             \"], [\"Dennis the Menace (1993)             \"], [\"Beverly Hills Cop III (1994)             \"], [\"The Specialist (1994)             \"], [\"Judge Dredd (1995)             \"], [\"Jingle All The Way (1996)             \"], [\"The Nutty Professor (1996)             \"], [\"Scream 3 (2000)             \"], [\"Urban Legend (1998)             \"], [\"Runaway Bride (1999)             \"], [\"40 Days and 40 Nights (2002)             \"], [\"Thir13en Ghosts (2001)             \"], [\"Cube 2: Hypercube (2002)             \"], [\"Hulk (2003)             \"], [\"Jeepers Creepers 2 (2003)             \"], [\"The Santa Clause 2 (2002)             \"], [\"Daddy Day Care (2003)             \"], [\"Lara Croft Tomb Raider: The Cradle of Life (2003)             \"], [\"Alexander (2004)             \"], [\"The Box (I) (2009)             \"], [\"Babylon A.D. (2008)             \"], [\"Monster-in-Law (2005)             \"], [\"AVP: Alien vs. Predator (2004)             \"], [\"White Chicks (2004)             \"], [\"Dark Water (2005)             \"], [\"The Black Dahlia (2006)             \"], [\"The Pacifier (2005)             \"], [\"Failure to Launch (2006)             \"], [\"Good Luck Chuck (2007)             \"], [\"You, Me and Dupree (2006)             \"], [\"Fantastic 4: Rise of the Silver Surfer (2007)             \"], [\"R.I.P.D. (2013)             \"], [\"Sex and the City (2008)             \"], [\"The Shawshank Redemption (1994)             \"], [\"The Godfather (1972)             \"], [\"The Dark Knight (2008)             \"], [\"The Godfather: Part II (1974)             \"], [\"12 Angry Men (1957)             \"], [\"The Lord of the Rings: The Return of the King (2003)             \"], [\"Pulp Fiction (1994)             \"], [\"Schindler's List (1993)             \"], [\"Brothers in Arms (2016)             \"], [\"Inception (2010)             \"], [\"Fight Club (1999)             \"], [\"The Lord of the Rings: The Fellowship of the Ring (2001)             \"], [\"Forrest Gump (1994)             \"], [\"The Good, the Bad and the Ugly (1966)             \"], [\"Soorarai Pottru (2020)             \"], [\"The Lord of the Rings: The Two Towers (2002)             \"], [\"The Matrix (1999)             \"], [\"Goodfellas (1990)             \"], [\"Star Wars: Episode V - The Empire Strikes Back (1980)             \"], [\"One Flew Over the Cuckoo's Nest (1975)             \"], [\"Hamilton (2020)             \"], [\"Parasite (2019)             \"], [\"Interstellar (2014)             \"], [\"City of God (2002)             \"], [\"Spirited Away (2001)             \"], [\"Saving Private Ryan (1998)             \"], [\"The Green Mile (1999)             \"], [\"Life Is Beautiful (1997)             \"], [\"Seven (1995)             \"], [\"The Silence of the Lambs (1991)             \"], [\"Star Wars: Episode IV - A New Hope (1977)             \"], [\"Seven Samurai (1954)             \"], [\"It's a Wonderful Life (1946)             \"], [\"Joker (2019)             \"], [\"Whiplash (2014)             \"], [\"Untouchable (2011)             \"], [\"The Prestige (2006)             \"], [\"The Departed (2006)             \"], [\"The Pianist (2002)             \"], [\"Gladiator (2000)             \"], [\"American History X (1998)             \"], [\"The Usual Suspects (1995)             \"], [\"Leon (1994)             \"], [\"The Lion King (1994)             \"], [\"Terminator 2: Judgment Day (1991)             \"], [\"Cinema Paradiso (1988)             \"], [\"Grave of the Fireflies (1988)             \"], [\"Back to the Future (1985)             \"], [\"Once Upon a Time in the West (1968)             \"], [\"Psycho (1960)             \"], [\"Casablanca (1942)             \"], [\"Modern Times (1936)             \"], [\"City Lights (1931)             \"], [\"Capernaum (2018)             \"], [\"Your Name. (2016)             \"], [\"Dangal (2016)             \"], [\"Spider-Man: Into the Spider-Verse (2018)             \"], [\"Avengers: Endgame (2019)             \"], [\"Avengers: Infinity War (2018)             \"], [\"Coco (I) (2017)             \"], [\"Django Unchained (2012)             \"], [\"The Dark Knight Rises (2012)             \"], [\"3 Idiots (2009)             \"], [\"Taare Zameen Par (2007)             \"], [\"WALL\\u00b7E (2008)             \"], [\"The Lives of Others (2006)             \"], [\"Oldboy (2003)             \"], [\"Memento (2000)             \"], [\"Princess Mononoke (1997)             \"], [\"Once Upon a Time in America (1984)             \"], [\"Raiders of the Lost Ark (1981)             \"], [\"The Shining (1980)             \"], [\"Apocalypse Now (1979)             \"], [\"Alien (1979)             \"], [\"Dr. Strangelove or: How I Learned to Stop Worrying and Love the Bomb (1964)             \"], [\"Witness for the Prosecution (1957)             \"], [\"Paths of Glory (1957)             \"], [\"Rear Window (1954)             \"], [\"Sunset Blvd. (1950)             \"], [\"The Great Dictator (1940)             \"], [\"1917 (2019)             \"], [\"Andhadhun (2018)             \"], [\"The Hunt (2012)             \"], [\"A Separation (2011)             \"], [\"Incendies (2010)             \"], [\"My Father and My Son (2005)             \"], [\"Toy Story 3 (2010)             \"], [\"Inglourious Basterds (2009)             \"], [\"Eternal Sunshine of the Spotless Mind (2004)             \"], [\"Am\\u00e9lie (2001)             \"], [\"Snatch (2000)             \"], [\"Requiem for a Dream (2000)             \"], [\"American Beauty (1999)             \"], [\"Good Will Hunting (1997)             \"], [\"Children of Heaven (1997)             \"], [\"Toy Story (1995)             \"], [\"Braveheart (1995)             \"], [\"Reservoir Dogs (1992)             \"], [\"Full Metal Jacket (1987)             \"], [\"Come and See (1985)             \"], [\"Aliens (1986)             \"], [\"Amadeus (1984)             \"], [\"Scarface (1983)             \"], [\"Star Wars: Episode VI - Return of the Jedi (1983)             \"], [\"Das Boot (1981)             \"], [\"Taxi Driver (1976)             \"], [\"The Sting (1973)             \"], [\"A Clockwork Orange (1971)             \"], [\"2001: A Space Odyssey (1968)             \"], [\"For a Few Dollars More (1965)             \"], [\"Lawrence of Arabia (1962)             \"], [\"The Apartment (1960)             \"], [\"North by Northwest (1959)             \"], [\"Vertigo (1958)             \"], [\"Singin' in the Rain (1952)             \"], [\"Ikiru (1952)             \"], [\"Bicycle Thieves (1948)             \"], [\"Double Indemnity (1944)             \"], [\"Citizen Kane (1941)             \"], [\"M (1931)             \"], [\"Metropolis (1927)             \"], [\"The Kid (1921)             \"], [\"Green Book (2018)             \"], [\"Three Billboards Outside Ebbing, Missouri (2017)             \"], [\"Baahubali 2: The Conclusion (2017)             \"], [\"Klaus (2019)             \"], [\"Drishyam (2015)             \"], [\"Queen (2013)             \"], [\"Soul (2020)             \"], [\"Bhaag Milkha Bhaag (2013)             \"], [\"Gangs of Wasseypur (2012)             \"], [\"The Secret in Their Eyes (2009)             \"], [\"Warrior (2011)             \"], [\"Shutter Island (2010)             \"], [\"Up (2009)             \"], [\"The Wolf of Wall Street (2013)             \"], [\"Chak De! India (2007)             \"], [\"There Will Be Blood (2007)             \"], [\"Pan's Labyrinth (2006)             \"], [\"V for Vendetta (2005)             \"], [\"Rang De Basanti (2006)             \"], [\"Batman Begins (2005)             \"], [\"Swades: We, the People (2004)             \"], [\"Downfall (2004)             \"], [\"Howl's Moving Castle (2004)             \"], [\"A Beautiful Mind (2001)             \"], [\"Hera Pheri (2000)             \"], [\"Lock, Stock and Two Smoking Barrels (1998)             \"], [\"L.A. Confidential (1997)             \"], [\"The Bandit (1996)             \"], [\"Heat (1995)             \"], [\"Casino (1995)             \"], [\"Unforgiven (1992)             \"], [\"Indiana Jones and the Last Crusade (1989)             \"], [\"My Neighbour Totoro (1988)             \"], [\"Die Hard (1988)             \"], [\"Ran (1985)             \"], [\"Raging Bull (1980)             \"], [\"Stalker (1979)             \"], [\"Sholay (1975)             \"], [\"Monty Python and the Holy Grail (1975)             \"], [\"The Great Escape (1963)             \"], [\"To Kill a Mockingbird (1962)             \"], [\"Yojimbo (1961)             \"], [\"Judgment at Nuremberg (1961)             \"], [\"Some Like It Hot (1959)             \"], [\"Wild Strawberries (1957)             \"], [\"The Seventh Seal (1957)             \"], [\"Dial M for Murder (1954)             \"], [\"Tokyo Story (1953)             \"], [\"Rashomon (1950)             \"], [\"All About Eve (1950)             \"], [\"The Treasure of the Sierra Madre (1948)             \"], [\"The Gold Rush (1925)             \"], [\"Portrait of a Lady on Fire (2019)             \"], [\"The Invisible Guest (2016)             \"], [\"The Handmaiden (2016)             \"], [\"Mommy (I) (2014)             \"], [\"Haider (2014)             \"], [\"Logan (2017)             \"], [\"Room (I) (2015)             \"], [\"Wild Tales (2014)             \"], [\"PK (2014)             \"], [\"OMG: Oh My God! (2012)             \"], [\"The Grand Budapest Hotel (2014)             \"], [\"Gone Girl (2014)             \"], [\"Hacksaw Ridge (2016)             \"], [\"Inside Out (I) (2015)             \"], [\"Barfi! (2012)             \"], [\"12 Years a Slave (2013)             \"], [\"Rush (I) (2013)             \"], [\"Le Mans '66 (2019)             \"], [\"Spotlight (I) (2015)             \"], [\"Song of the Sea (2014)             \"], [\"Kahaani (2012)             \"], [\"Zindagi Na Milegi Dobara (2011)             \"], [\"Prisoners (2013)             \"], [\"Mad Max: Fury Road (2015)             \"], [\"A Wednesday (2008)             \"], [\"Gran Torino (2008)             \"], [\"Harry Potter and the Deathly Hallows: Part 2 (2011)             \"], [\"Hachi: A Dog's Tale (2009)             \"], [\"Mary and Max (2009)             \"], [\"How to Train Your Dragon (2010)             \"], [\"Into the Wild (2007)             \"], [\"No Country for Old Men (2007)             \"], [\"Million Dollar Baby (2004)             \"], [\"Hotel Rwanda (2004)             \"], [\"Before Sunset (2004)             \"], [\"Munna Bhai M.B.B.S. (2003)             \"], [\"Memories of Murder (2003)             \"], [\"Dil Chahta Hai (2001)             \"], [\"Kill Bill: Vol. 1 (2003)             \"], [\"Finding Nemo (2003)             \"], [\"Catch Me If You Can (2002)             \"], [\"Amores Perros (2000)             \"], [\"Monsters, Inc. (2001)             \"], [\"Lagaan: Once Upon a Time in India (2001)             \"], [\"The Sixth Sense (1999)             \"], [\"The Legend of 1900 (1998)             \"], [\"The Truman Show (1998)             \"], [\"Crna macka, beli macor (1998)             \"], [\"The Big Lebowski (1998)             \"], [\"In the Mood for Love (2000)             \"], [\"Trainspotting (1996)             \"], [\"Fargo (1996)             \"], [\"Underground (1995)             \"], [\"La Haine (1995)             \"], [\"Dilwale Dulhania Le Jayenge (1995)             \"], [\"Before Sunrise (1995)             \"], [\"Three Colours: Red (1994)             \"], [\"Chungking Express (1994)             \"], [\"Jurassic Park (1993)             \"], [\"In the Name of the Father (1993)             \"], [\"Dead Poets Society (1989)             \"], [\"Stand by Me (1986)             \"], [\"Platoon (1986)             \"], [\"Paris, Texas (1984)             \"], [\"Nausica\\u00e4 of the Valley of the Wind (1984)             \"], [\"The Thing (1982)             \"], [\"Pink Floyd: The Wall (1982)             \"], [\"Fanny and Alexander (1982)             \"], [\"Blade Runner (1982)             \"], [\"The Elephant Man (1980)             \"], [\"Monty Python's Life of Brian (1979)             \"], [\"The Deer Hunter (1978)             \"], [\"Rocky (1976)             \"], [\"Network (1976)             \"], [\"Barry Lyndon (1975)             \"], [\"Chinatown (1974)             \"]], \"hovertemplate\": \"Review Sentiment Score=%{x}<br>IMDB Rating=%{y}<br>title=%{customdata[0]}<extra></extra>\", \"legendgroup\": \"\", \"marker\": {\"color\": \"#636efa\", \"symbol\": \"circle\"}, \"mode\": \"markers\", \"name\": \"\", \"orientation\": \"v\", \"showlegend\": false, \"type\": \"scatter\", \"x\": [-0.444752, -0.3846719999999999, -0.153744, 0.332328, -0.10558800000000002, -0.5697800000000001, -0.363348, 0.16902799999999998, 0.083896, 0.15739599999999998, -0.08886399999999997, 0.5433640000000001, 0.5225400000000001, -0.23330799999999996, 0.368192, 0.3755120000000001, 0.251632, 0.65704, -0.11321200000000005, -0.034879999999999994, 0.5851760000000003, -0.11931200000000006, -0.062212, 0.569476, 0.03466399999999993, -0.27408800000000005, 0.577872, 0.28200800000000004, 0.405444, 0.35629999999999995, 0.26037999999999994, 0.5431520000000001, -0.40792399999999995, 0.4232440000000001, 0.027288000000000024, 0.5597640000000002, 0.390112, 0.415864, 0.8403000000000002, -0.4779600000000001, 0.02339600000000001, 0.1439, 0.534, -0.0964333333333334, -0.15254, 0.5577599999999999, 0.6987800000000001, -0.301624, 0.541664, 0.4715840000000001, 0.4514240000000001, 0.481184, 0.7818160000000001, -0.04174399999999998, 0.5960040000000001, 0.6527679999999999, 0.5603400000000002, -0.508124, 0.18771199999999996, 0.8324399999999998, 0.41225600000000007, 0.30452, 0.523112, 0.12267600000000005, 0.6867480000000001, 0.7432959999999998, 0.70038, -0.09291999999999996, 0.014312, 0.8428708333333333, 0.4045958333333333, -0.2376600000000001, 0.6238239999999999, 0.32059599999999994, -0.07833199999999997, -0.5040279999999999, 0.34806000000000004, -0.4334960000000001, 0.720056, 0.8204759999999998, 0.587208, 0.532064, 0.39048, 0.7262879999999999, 0.7279359999999999, 0.32632, 0.38652800000000004, -0.18195999999999998, 0.6167600000000001, 0.07805199999999995, 0.08116400000000003, 0.15474000000000002, 0.303736, 0.5549400000000001, 0.91026, 0.4366720000000001, 0.42998400000000003, 0.10166399999999998, 0.16923199999999994, 0.28244400000000003, 0.762508, 0.7985720000000001, 0.7632519999999999, 0.696524, -0.11314000000000002, -0.134128, 0.6132839999999999, 0.045196000000000014, -0.14652400000000004, 0.31958800000000004, 0.3190800000000001, 0.261308, 0.123272, -0.449396, -0.049916000000000016, 0.482608, 0.960016, 0.7330840000000001, 0.27548, -0.04809999999999998, 0.5223720000000001, 0.8286159999999999, 0.860368, 0.444208, 0.49286, 0.32309200000000005, 0.4331200000000001, 0.4416320000000002, 0.16166800000000006, 0.413944, -0.686048, 0.4484080000000001, -0.10664799999999998, 0.39579200000000003, 0.1447, 0.31521199999999994, -0.315784, 0.09504, -0.030296000000000007, -0.08150000000000003, 0.807928, 0.7732083333333334, 0.7075199999999999, 0.6665960000000001, -0.184456, 0.7517760000000002, 0.880668, 0.7090480000000001, -0.13916800000000001, 0.8031800000000001, 0.07292799999999999, 0.7819519999999999, 0.4118719999999999, 0.28506799999999993, 0.08640400000000001, 0.6411719999999999, 0.17901200000000006, 0.298712, -0.052183999999999967, -0.338244, 0.6774079999999999, 0.2939, 0.23792400000000005, 0.13292400000000004, 0.02540000000000001, 0.48735200000000006, 0.93538, 0.379896, -0.251608, 0.3811680000000001, 0.5307, 0.7864166666666667, -0.16598800000000002, 0.510652, 0.6902640000000001, -0.352628, 0.3108680000000001, 0.7041920000000002, 0.8726200000000001, 0.8902319999999999, 0.6797359999999999, 0.39346, 0.769636, 0.938724, 0.45736800000000005, 0.6595399999999999, 0.181544, 0.642688, 0.6683160000000001, 0.7884760000000001, 0.6664279999999998, 0.6287560000000001, 0.25802, -0.2662800000000001, 0.07713999999999999, 0.8639760000000001, 0.18560800000000005, 0.6317, 0.07741599999999997, 0.32966, 0.6105719999999999, 0.5347080000000001, 0.36872, 0.7990000000000002, 0.274824, 0.754636, 0.5057560000000001, 0.31089599999999995, 0.8138320000000001, 0.267512, 0.265236, 0.8395400000000001, 0.06712, -0.739064, 0.6865519999999999, -0.220492, 0.192028, -0.033988000000000025, 0.734364, 0.040337499999999984, 0.2834199999999999, 0.666168, 0.9205, 0.8998560000000002, 0.11446666666666665, -0.1543, 0.6580479999999999, -0.015083333333333353, 0.294752, -0.152684, 0.74152, 0.5764839999999999, 0.7147479999999999, 0.954464, 0.5976119999999999, 0.166624, 0.07205599999999998, 0.4525440000000001, 0.8899199999999999, 0.588032, 0.423012, 0.21790416666666668, 0.08252800000000003, 0.7849, 0.5982119999999999, 0.8904719999999999, 0.5799319999999999, 0.8040720000000001, 0.8213839999999999, 0.45673199999999997, 0.9234680000000004, 0.7288839999999999, 0.8001279999999997, 0.72248, 0.499204, 0.912544, 0.8346360000000002, 0.478884, 0.3771519999999999, 0.823728, 0.6272160000000001, 0.934712, 0.8587559999999997, 0.463975, 0.7468560000000001, 0.83816, 0.7561920000000001, 0.630736, 0.631876, 0.6600239999999999, 0.8691679999999999, 0.527676, 0.7995399999999999, 0.16940416666666666, 0.7460040000000001, -0.2909240000000001, 0.817448, 0.8552519999999998, -0.06097599999999999, 0.6322639999999999, 0.6765499999999999, 0.8588, 0.9054559999999999, 0.475808, 0.6351399999999999, 0.962276, 0.9274080000000002, 0.4414600000000001, 0.21058000000000004, 0.7713279999999999, 0.19808800000000001, 0.4863280000000001, 0.6391479999999999, 0.8585959999999999, 0.720996, 0.8887759999999999, -0.20198000000000005, 0.964536, 0.7556759999999998, 0.16228799999999996, 0.969392, 0.7142999999999999, 0.961944, 0.34766800000000003, 0.594156, 0.9498920000000004, 0.9425879999999999, -0.049564, 0.5420960000000001, 0.627324, 0.39542799999999984, 0.478984, 0.8944880000000001, 0.8746279999999999, 0.988936, 0.7106239999999999, 0.163688, 0.1864760000000001, 0.7018080000000001, 0.051828000000000055, 0.91774, 0.07348800000000003, -0.06737083333333331, 0.369088, 0.5403560000000001, 0.8202719999999999, 0.3807719999999999, 0.73312, 0.8095999999999998, 0.5978519999999999, 0.49423199999999995, 0.5816680000000001, 0.07246799999999996, 0.6760520000000002, 0.4297200000000001, 0.8050799999999998, 0.9335520000000002, 0.21981199999999998, 0.8432999999999998, 0.7569680000000001, 0.8374240000000001, 0.4132875000000001, 0.9210416666666668, 0.7445636363636364, 0.916304, 0.9628583333333336, 0.8335919999999999, 0.4672291666666666, -0.11030833333333334, -0.4035240000000001, 0.905064, 0.8457720000000001, 0.7057519999999999, 0.400856, 0.31654799999999994, 0.4533480000000001, 0.7241440000000001, 0.14995999999999998, 0.6233119999999999, 0.49612, 0.8444319999999997, 0.906856, 0.8698359999999998, 0.5534640000000001, 0.9776879999999999, 0.7314959999999998, 0.234876, 0.55098, 0.780752, -0.293772, 0.758608, 0.936672, 0.8149359999999999, 0.028912000000000007, 0.14206399999999994, 0.8260160000000001, 0.8937560000000002, 0.8807039999999999, 0.8037880000000001, 0.950596, 0.6731560000000001, 0.8619080000000001, 0.541212, 0.5575640000000001, 0.968312, 0.695136, 0.9713760000000002, 0.655416, 0.4403040000000001, 0.7999240000000001, 0.6883239999999999, 0.7579359999999998, 0.909428, 0.08258000000000001, 0.6602800000000001, 0.8126359999999999, 0.8069400000000002, 0.396668, 0.7348159999999999, 0.5024000000000002, 0.8020479999999999, 0.7037119999999999, 0.34434000000000003, 0.923576, 0.8509359999999998, 0.623028, 0.012619999999999982, 0.29016400000000003, 0.5840879999999999, 0.807144, 0.8693760000000001, 0.8632320000000003, 0.7922239999999999, 0.6371880000000001, 0.5185958333333334, 0.9568800000000002, 0.8354679999999999, 0.3490880000000001, 0.4815120000000001, 0.5189208333333334, 0.04370399999999999, 0.948296, 0.8098399999999999, 0.949692, 0.872276, 0.6913199999999999, 0.870992, 0.710792, 0.68782, 0.344632, 0.657144, 0.6151439999999999, 0.9442120000000002, 0.8919400000000001, 0.6135480000000001, 0.05882800000000005, 0.4784999999999999, 0.139464, 0.6664359999999999, -0.203772, 0.915296, 0.8389359999999999, 0.320492, 0.945896, 0.7916599999999999, 0.9897959999999999, 0.11134000000000002, 0.223768, 0.5656640000000001, 0.4204279999999999, 0.2984960000000001, 0.769324, 0.7269800000000001, 0.86, 0.17925999999999995, 0.05556400000000003, 0.93294, 0.5570080000000002, 0.8999760000000003, 0.8375959999999998, 0.022483999999999976, 0.8943480000000001, 0.460172, 0.9754166666666664, 0.9394039999999998, 0.215712, 0.8188800000000002, 0.9793280000000001, 0.74082, 0.7708439999999999, 0.8610480000000001, 0.8754239999999998, 0.950832, 0.7274719999999999, 0.7460119999999999, 0.6519719999999998, 0.283432, -0.21430833333333327, 0.988196, 0.794896, 0.7681279999999999, 0.8697280000000002, 0.907112, -0.011462500000000014, 0.8446800000000002, 0.8889600000000001, -0.3923200000000001, 0.64888, 0.69884, 0.6142280000000001, 0.158856, 0.5712199999999998, 0.6588719999999999, 0.579284, 0.7717480000000001, 0.1861, 0.9183680000000001, 0.4617359999999999, 0.6288916666666666, 0.7502280000000002], \"xaxis\": \"x\", \"y\": [1.1, 1.4, 1.9, 2.2, 2.4, 2.4, 2.5, 2.5, 2.8, 2.8, 3.3, 3.3, 3.4, 3.5, 3.7, 3.7, 3.8, 3.8, 3.9, 4.0, 4.0, 4.0, 4.0, 4.1, 4.1, 4.2, 4.3, 4.3, 4.3, 4.3, 4.4, 4.4, 4.4, 4.4, 4.4, 4.5, 4.5, 4.5, 4.5, 4.5, 4.5, 4.5, 4.6, 4.6, 4.6, 4.7, 4.7, 4.7, 4.7, 4.7, 4.7, 4.8, 4.8, 4.8, 4.8, 4.8, 4.8, 4.8, 4.8, 4.9, 4.9, 4.9, 4.9, 4.9, 4.9, 4.9, 4.9, 4.9, 4.9, 5.0, 5.0, 5.0, 5.0, 5.0, 5.0, 5.0, 5.0, 5.0, 5.1, 5.1, 5.1, 5.1, 5.1, 5.1, 5.1, 5.1, 5.1, 5.1, 5.1, 5.1, 5.1, 5.1, 5.2, 5.2, 5.2, 5.2, 5.2, 5.2, 5.2, 5.2, 5.2, 5.2, 5.2, 5.2, 5.2, 5.2, 5.2, 5.2, 5.2, 5.2, 5.2, 5.2, 5.2, 5.2, 5.3, 5.3, 5.3, 5.3, 5.3, 5.3, 5.3, 5.3, 5.3, 5.3, 5.3, 5.3, 5.3, 5.3, 5.3, 5.3, 5.3, 5.3, 5.3, 5.3, 5.3, 5.3, 5.3, 5.3, 5.3, 5.3, 5.4, 5.4, 5.4, 5.4, 5.4, 5.4, 5.4, 5.4, 5.4, 5.4, 5.4, 5.4, 5.4, 5.4, 5.4, 5.4, 5.4, 5.4, 5.4, 5.4, 5.4, 5.4, 5.4, 5.4, 5.4, 5.4, 5.4, 5.4, 5.4, 5.5, 5.5, 5.5, 5.5, 5.5, 5.5, 5.5, 5.5, 5.5, 5.5, 5.5, 5.5, 5.5, 5.5, 5.5, 5.5, 5.5, 5.5, 5.5, 5.5, 5.5, 5.5, 5.5, 5.5, 5.5, 5.5, 5.5, 5.5, 5.5, 5.5, 5.5, 5.5, 5.5, 5.5, 5.5, 5.5, 5.5, 5.5, 5.5, 5.5, 5.5, 5.5, 5.5, 5.5, 5.5, 5.5, 5.5, 5.5, 5.5, 5.6, 5.6, 5.6, 5.6, 5.6, 5.6, 5.6, 5.6, 5.6, 5.6, 5.6, 5.6, 5.6, 5.6, 5.6, 5.6, 5.6, 5.6, 5.6, 5.6, 5.6, 5.6, 5.6, 5.6, 5.6, 5.6, 5.6, 5.6, 5.6, 5.6, 5.6, 5.6, 9.3, 9.2, 9.0, 9.0, 9.0, 8.9, 8.9, 8.9, 8.8, 8.8, 8.8, 8.8, 8.8, 8.8, 8.7, 8.7, 8.7, 8.7, 8.7, 8.7, 8.6, 8.6, 8.6, 8.6, 8.6, 8.6, 8.6, 8.6, 8.6, 8.6, 8.6, 8.6, 8.6, 8.5, 8.5, 8.5, 8.5, 8.5, 8.5, 8.5, 8.5, 8.5, 8.5, 8.5, 8.5, 8.5, 8.5, 8.5, 8.5, 8.5, 8.5, 8.5, 8.5, 8.4, 8.4, 8.4, 8.4, 8.4, 8.4, 8.4, 8.4, 8.4, 8.4, 8.4, 8.4, 8.4, 8.4, 8.4, 8.4, 8.4, 8.4, 8.4, 8.4, 8.4, 8.4, 8.4, 8.4, 8.4, 8.4, 8.4, 8.3, 8.3, 8.3, 8.3, 8.3, 8.3, 8.3, 8.3, 8.3, 8.3, 8.3, 8.3, 8.3, 8.3, 8.3, 8.3, 8.3, 8.3, 8.3, 8.3, 8.3, 8.3, 8.3, 8.3, 8.3, 8.3, 8.3, 8.3, 8.3, 8.3, 8.3, 8.3, 8.3, 8.3, 8.3, 8.3, 8.3, 8.3, 8.3, 8.3, 8.3, 8.3, 8.2, 8.2, 8.2, 8.2, 8.2, 8.2, 8.2, 8.2, 8.2, 8.2, 8.2, 8.2, 8.2, 8.2, 8.2, 8.2, 8.2, 8.2, 8.2, 8.2, 8.2, 8.2, 8.2, 8.2, 8.2, 8.2, 8.2, 8.2, 8.2, 8.2, 8.2, 8.2, 8.2, 8.2, 8.2, 8.2, 8.2, 8.2, 8.2, 8.2, 8.2, 8.2, 8.2, 8.2, 8.2, 8.2, 8.2, 8.2, 8.2, 8.2, 8.2, 8.2, 8.1, 8.1, 8.1, 8.1, 8.1, 8.1, 8.1, 8.1, 8.1, 8.1, 8.1, 8.1, 8.1, 8.1, 8.1, 8.1, 8.1, 8.1, 8.1, 8.1, 8.1, 8.1, 8.1, 8.1, 8.1, 8.1, 8.1, 8.1, 8.1, 8.1, 8.1, 8.1, 8.1, 8.1, 8.1, 8.1, 8.1, 8.1, 8.1, 8.1, 8.1, 8.1, 8.1, 8.1, 8.1, 8.1, 8.1, 8.1, 8.1, 8.1, 8.1, 8.1, 8.1, 8.1, 8.1, 8.1, 8.1, 8.1, 8.1, 8.1, 8.1, 8.1, 8.1, 8.1, 8.1, 8.1, 8.1, 8.1, 8.1, 8.1, 8.1, 8.1, 8.1, 8.1, 8.1, 8.1], \"yaxis\": \"y\"}],                        {\"legend\": {\"tracegroupgap\": 0}, \"template\": {\"data\": {\"bar\": [{\"error_x\": {\"color\": \"#2a3f5f\"}, \"error_y\": {\"color\": \"#2a3f5f\"}, \"marker\": {\"line\": {\"color\": \"#E5ECF6\", \"width\": 0.5}}, \"type\": \"bar\"}], \"barpolar\": [{\"marker\": {\"line\": {\"color\": \"#E5ECF6\", \"width\": 0.5}}, \"type\": \"barpolar\"}], \"carpet\": [{\"aaxis\": {\"endlinecolor\": \"#2a3f5f\", \"gridcolor\": \"white\", \"linecolor\": \"white\", \"minorgridcolor\": \"white\", \"startlinecolor\": \"#2a3f5f\"}, \"baxis\": {\"endlinecolor\": \"#2a3f5f\", \"gridcolor\": \"white\", \"linecolor\": \"white\", \"minorgridcolor\": \"white\", \"startlinecolor\": \"#2a3f5f\"}, \"type\": \"carpet\"}], \"choropleth\": [{\"colorbar\": {\"outlinewidth\": 0, \"ticks\": \"\"}, \"type\": \"choropleth\"}], \"contour\": [{\"colorbar\": {\"outlinewidth\": 0, \"ticks\": \"\"}, \"colorscale\": [[0.0, \"#0d0887\"], [0.1111111111111111, \"#46039f\"], [0.2222222222222222, \"#7201a8\"], [0.3333333333333333, \"#9c179e\"], [0.4444444444444444, \"#bd3786\"], [0.5555555555555556, \"#d8576b\"], [0.6666666666666666, \"#ed7953\"], [0.7777777777777778, \"#fb9f3a\"], [0.8888888888888888, \"#fdca26\"], [1.0, \"#f0f921\"]], \"type\": \"contour\"}], \"contourcarpet\": [{\"colorbar\": {\"outlinewidth\": 0, \"ticks\": \"\"}, \"type\": \"contourcarpet\"}], \"heatmap\": [{\"colorbar\": {\"outlinewidth\": 0, \"ticks\": \"\"}, \"colorscale\": [[0.0, \"#0d0887\"], [0.1111111111111111, \"#46039f\"], [0.2222222222222222, \"#7201a8\"], [0.3333333333333333, \"#9c179e\"], [0.4444444444444444, \"#bd3786\"], [0.5555555555555556, \"#d8576b\"], [0.6666666666666666, \"#ed7953\"], [0.7777777777777778, \"#fb9f3a\"], [0.8888888888888888, \"#fdca26\"], [1.0, \"#f0f921\"]], \"type\": \"heatmap\"}], \"heatmapgl\": [{\"colorbar\": {\"outlinewidth\": 0, \"ticks\": \"\"}, \"colorscale\": [[0.0, \"#0d0887\"], [0.1111111111111111, \"#46039f\"], [0.2222222222222222, \"#7201a8\"], [0.3333333333333333, \"#9c179e\"], [0.4444444444444444, \"#bd3786\"], [0.5555555555555556, \"#d8576b\"], [0.6666666666666666, \"#ed7953\"], [0.7777777777777778, \"#fb9f3a\"], [0.8888888888888888, \"#fdca26\"], [1.0, \"#f0f921\"]], \"type\": \"heatmapgl\"}], \"histogram\": [{\"marker\": {\"colorbar\": {\"outlinewidth\": 0, \"ticks\": \"\"}}, \"type\": \"histogram\"}], \"histogram2d\": [{\"colorbar\": {\"outlinewidth\": 0, \"ticks\": \"\"}, \"colorscale\": [[0.0, \"#0d0887\"], [0.1111111111111111, \"#46039f\"], [0.2222222222222222, \"#7201a8\"], [0.3333333333333333, \"#9c179e\"], [0.4444444444444444, \"#bd3786\"], [0.5555555555555556, \"#d8576b\"], [0.6666666666666666, \"#ed7953\"], [0.7777777777777778, \"#fb9f3a\"], [0.8888888888888888, \"#fdca26\"], [1.0, \"#f0f921\"]], \"type\": \"histogram2d\"}], \"histogram2dcontour\": [{\"colorbar\": {\"outlinewidth\": 0, \"ticks\": \"\"}, \"colorscale\": [[0.0, \"#0d0887\"], [0.1111111111111111, \"#46039f\"], [0.2222222222222222, \"#7201a8\"], [0.3333333333333333, \"#9c179e\"], [0.4444444444444444, \"#bd3786\"], [0.5555555555555556, \"#d8576b\"], [0.6666666666666666, \"#ed7953\"], [0.7777777777777778, \"#fb9f3a\"], [0.8888888888888888, \"#fdca26\"], [1.0, \"#f0f921\"]], \"type\": \"histogram2dcontour\"}], \"mesh3d\": [{\"colorbar\": {\"outlinewidth\": 0, \"ticks\": \"\"}, \"type\": \"mesh3d\"}], \"parcoords\": [{\"line\": {\"colorbar\": {\"outlinewidth\": 0, \"ticks\": \"\"}}, \"type\": \"parcoords\"}], \"pie\": [{\"automargin\": true, \"type\": \"pie\"}], \"scatter\": [{\"marker\": {\"colorbar\": {\"outlinewidth\": 0, \"ticks\": \"\"}}, \"type\": \"scatter\"}], \"scatter3d\": [{\"line\": {\"colorbar\": {\"outlinewidth\": 0, \"ticks\": \"\"}}, \"marker\": {\"colorbar\": {\"outlinewidth\": 0, \"ticks\": \"\"}}, \"type\": \"scatter3d\"}], \"scattercarpet\": [{\"marker\": {\"colorbar\": {\"outlinewidth\": 0, \"ticks\": \"\"}}, \"type\": \"scattercarpet\"}], \"scattergeo\": [{\"marker\": {\"colorbar\": {\"outlinewidth\": 0, \"ticks\": \"\"}}, \"type\": \"scattergeo\"}], \"scattergl\": [{\"marker\": {\"colorbar\": {\"outlinewidth\": 0, \"ticks\": \"\"}}, \"type\": \"scattergl\"}], \"scattermapbox\": [{\"marker\": {\"colorbar\": {\"outlinewidth\": 0, \"ticks\": \"\"}}, \"type\": \"scattermapbox\"}], \"scatterpolar\": [{\"marker\": {\"colorbar\": {\"outlinewidth\": 0, \"ticks\": \"\"}}, \"type\": \"scatterpolar\"}], \"scatterpolargl\": [{\"marker\": {\"colorbar\": {\"outlinewidth\": 0, \"ticks\": \"\"}}, \"type\": \"scatterpolargl\"}], \"scatterternary\": [{\"marker\": {\"colorbar\": {\"outlinewidth\": 0, \"ticks\": \"\"}}, \"type\": \"scatterternary\"}], \"surface\": [{\"colorbar\": {\"outlinewidth\": 0, \"ticks\": \"\"}, \"colorscale\": [[0.0, \"#0d0887\"], [0.1111111111111111, \"#46039f\"], [0.2222222222222222, \"#7201a8\"], [0.3333333333333333, \"#9c179e\"], [0.4444444444444444, \"#bd3786\"], [0.5555555555555556, \"#d8576b\"], [0.6666666666666666, \"#ed7953\"], [0.7777777777777778, \"#fb9f3a\"], [0.8888888888888888, \"#fdca26\"], [1.0, \"#f0f921\"]], \"type\": \"surface\"}], \"table\": [{\"cells\": {\"fill\": {\"color\": \"#EBF0F8\"}, \"line\": {\"color\": \"white\"}}, \"header\": {\"fill\": {\"color\": \"#C8D4E3\"}, \"line\": {\"color\": \"white\"}}, \"type\": \"table\"}]}, \"layout\": {\"annotationdefaults\": {\"arrowcolor\": \"#2a3f5f\", \"arrowhead\": 0, \"arrowwidth\": 1}, \"coloraxis\": {\"colorbar\": {\"outlinewidth\": 0, \"ticks\": \"\"}}, \"colorscale\": {\"diverging\": [[0, \"#8e0152\"], [0.1, \"#c51b7d\"], [0.2, \"#de77ae\"], [0.3, \"#f1b6da\"], [0.4, \"#fde0ef\"], [0.5, \"#f7f7f7\"], [0.6, \"#e6f5d0\"], [0.7, \"#b8e186\"], [0.8, \"#7fbc41\"], [0.9, \"#4d9221\"], [1, \"#276419\"]], \"sequential\": [[0.0, \"#0d0887\"], [0.1111111111111111, \"#46039f\"], [0.2222222222222222, \"#7201a8\"], [0.3333333333333333, \"#9c179e\"], [0.4444444444444444, \"#bd3786\"], [0.5555555555555556, \"#d8576b\"], [0.6666666666666666, \"#ed7953\"], [0.7777777777777778, \"#fb9f3a\"], [0.8888888888888888, \"#fdca26\"], [1.0, \"#f0f921\"]], \"sequentialminus\": [[0.0, \"#0d0887\"], [0.1111111111111111, \"#46039f\"], [0.2222222222222222, \"#7201a8\"], [0.3333333333333333, \"#9c179e\"], [0.4444444444444444, \"#bd3786\"], [0.5555555555555556, \"#d8576b\"], [0.6666666666666666, \"#ed7953\"], [0.7777777777777778, \"#fb9f3a\"], [0.8888888888888888, \"#fdca26\"], [1.0, \"#f0f921\"]]}, \"colorway\": [\"#636efa\", \"#EF553B\", \"#00cc96\", \"#ab63fa\", \"#FFA15A\", \"#19d3f3\", \"#FF6692\", \"#B6E880\", \"#FF97FF\", \"#FECB52\"], \"font\": {\"color\": \"#2a3f5f\"}, \"geo\": {\"bgcolor\": \"white\", \"lakecolor\": \"white\", \"landcolor\": \"#E5ECF6\", \"showlakes\": true, \"showland\": true, \"subunitcolor\": \"white\"}, \"hoverlabel\": {\"align\": \"left\"}, \"hovermode\": \"closest\", \"mapbox\": {\"style\": \"light\"}, \"paper_bgcolor\": \"white\", \"plot_bgcolor\": \"#E5ECF6\", \"polar\": {\"angularaxis\": {\"gridcolor\": \"white\", \"linecolor\": \"white\", \"ticks\": \"\"}, \"bgcolor\": \"#E5ECF6\", \"radialaxis\": {\"gridcolor\": \"white\", \"linecolor\": \"white\", \"ticks\": \"\"}}, \"scene\": {\"xaxis\": {\"backgroundcolor\": \"#E5ECF6\", \"gridcolor\": \"white\", \"gridwidth\": 2, \"linecolor\": \"white\", \"showbackground\": true, \"ticks\": \"\", \"zerolinecolor\": \"white\"}, \"yaxis\": {\"backgroundcolor\": \"#E5ECF6\", \"gridcolor\": \"white\", \"gridwidth\": 2, \"linecolor\": \"white\", \"showbackground\": true, \"ticks\": \"\", \"zerolinecolor\": \"white\"}, \"zaxis\": {\"backgroundcolor\": \"#E5ECF6\", \"gridcolor\": \"white\", \"gridwidth\": 2, \"linecolor\": \"white\", \"showbackground\": true, \"ticks\": \"\", \"zerolinecolor\": \"white\"}}, \"shapedefaults\": {\"line\": {\"color\": \"#2a3f5f\"}}, \"ternary\": {\"aaxis\": {\"gridcolor\": \"white\", \"linecolor\": \"white\", \"ticks\": \"\"}, \"baxis\": {\"gridcolor\": \"white\", \"linecolor\": \"white\", \"ticks\": \"\"}, \"bgcolor\": \"#E5ECF6\", \"caxis\": {\"gridcolor\": \"white\", \"linecolor\": \"white\", \"ticks\": \"\"}}, \"title\": {\"x\": 0.05}, \"xaxis\": {\"automargin\": true, \"gridcolor\": \"white\", \"linecolor\": \"white\", \"ticks\": \"\", \"title\": {\"standoff\": 15}, \"zerolinecolor\": \"white\", \"zerolinewidth\": 2}, \"yaxis\": {\"automargin\": true, \"gridcolor\": \"white\", \"linecolor\": \"white\", \"ticks\": \"\", \"title\": {\"standoff\": 15}, \"zerolinecolor\": \"white\", \"zerolinewidth\": 2}}}, \"title\": {\"text\": \"IMDB Movie Ratings vs. Review Sentiment Score\"}, \"xaxis\": {\"anchor\": \"y\", \"domain\": [0.0, 1.0], \"title\": {\"text\": \"Review Sentiment Score\"}}, \"yaxis\": {\"anchor\": \"x\", \"domain\": [0.0, 1.0], \"title\": {\"text\": \"IMDB Rating\"}}},                        {\"responsive\": true}                    ).then(function(){\n",
       "                            \n",
       "var gd = document.getElementById('2a0a2457-76b3-4fa4-a09d-4b40979dc68d');\n",
       "var x = new MutationObserver(function (mutations, observer) {{\n",
       "        var display = window.getComputedStyle(gd).display;\n",
       "        if (!display || display === 'none') {{\n",
       "            console.log([gd, 'removed!']);\n",
       "            Plotly.purge(gd);\n",
       "            observer.disconnect();\n",
       "        }}\n",
       "}});\n",
       "\n",
       "// Listen for the removal of the full notebook cells\n",
       "var notebookContainer = gd.closest('#notebook-container');\n",
       "if (notebookContainer) {{\n",
       "    x.observe(notebookContainer, {childList: true});\n",
       "}}\n",
       "\n",
       "// Listen for the clearing of the current output cell\n",
       "var outputEl = gd.closest('.output');\n",
       "if (outputEl) {{\n",
       "    x.observe(outputEl, {childList: true});\n",
       "}}\n",
       "\n",
       "                        })                };                });            </script>        </div>"
      ]
     },
     "metadata": {},
     "output_type": "display_data"
    }
   ],
   "source": [
    "import matplotlib.pyplot as plt\n",
    "import plotly.express as px\n",
    "\n",
    "df_small['rating'] = df_small['rating'].astype('float64')\n",
    "df_small['title'] = df_small['title'].str.replace('                  ',' ')\n",
    "\n",
    "fig = px.scatter(df_small, x=\"sentiment\", y=\"rating\",\n",
    "                 labels={\"sentiment\": \"Review Sentiment Score\",\n",
    "                         \"rating\": \"IMDB Rating\"},\n",
    "                 title=\"IMDB Movie Ratings vs. Review Sentiment Score\",\n",
    "                 hover_data=['title'])\n",
    "fig.show()"
   ]
  },
  {
   "cell_type": "markdown",
   "metadata": {},
   "source": [
    "## Observations\n",
    "There appears to be a few broad categories of movie ratings vs. reviews. Keep in mind that the descriptions of these categories are generalizations, and some films will not fit any of these descriptions very well.\n",
    "* **High Rating, Positive Sentiment:** Movies that most people think highly of and which were well received critically.\n",
    "    * Examples: The Shawshank Redemption, The Lord of the Rings: The Return of the King, Toy Story, Casablanca\n",
    "* **Low Rating, Positive Sentiment:** Movies that were not critically well recieved but are \"fun.\" Think \"low brow\" or \"turn your brain off\" type movies. Also includes movies that are \"good bad\" \n",
    "    * Examples: Daddy Day Care, Gods of Egypt, Flubber, Judge Dredd, Paul Blart: Mall Cop, Twilight\n",
    "* **High Rating, Negative Sentiment:** Movies that are critically well recieved and well executed, but which have a reputation of being \"depressing\" or \"brutal.\"\n",
    "    * Examples: Platoon, Come and See, Saving Private Ryan, 12 Years a Slave, Grave of the Fireflies\n",
    "* **Low Rating, Negative Sentiment:** Movies that are generally seen as absolute trash, and are substantially less entertaining than \"dumb but fun\" or \"good bad\" movies. Either there's something incredibly objectionable about the movie or surrounding it. Some movies in this category are victims of review brigading (i.e. Gunday).\n",
    "    * Examples: A Serbian Film, A Good Day to Die Hard, Resident Evil: The Final Chapter, Battlefield Earth"
   ]
  },
  {
   "cell_type": "markdown",
   "metadata": {},
   "source": [
    "## Limitations\n",
    "\n",
    "#### Any movie that was review brigaded positively or negatively will essentially be in the \"wrong spot\"\n",
    "Review brigading is a term for when a group of people flood the reviews and ratings for a particular piece of media or product in order to alter its apparent reception. A specific example present in the graph is Gunday, which is listed with an IMDB Rating of 2.4 and sentiment score of -0.56978. This movie was apparently well received by critics, but was [review brigaded by Bangladeshis on social media](https://en.wikipedia.org/wiki/Gunday) in an effort to burry it due to a historical inaccuracy in the film. It is possible that other movies in this analysis have their ratings or reviews skewed due to such activity."
   ]
  }
 ],
 "metadata": {
  "kernelspec": {
   "display_name": "Python 3",
   "language": "python",
   "name": "python3"
  },
  "language_info": {
   "codemirror_mode": {
    "name": "ipython",
    "version": 3
   },
   "file_extension": ".py",
   "mimetype": "text/x-python",
   "name": "python",
   "nbconvert_exporter": "python",
   "pygments_lexer": "ipython3",
   "version": "3.7.6"
  }
 },
 "nbformat": 4,
 "nbformat_minor": 4
}
